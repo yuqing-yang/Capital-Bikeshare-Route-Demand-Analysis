{
 "cells": [
  {
   "cell_type": "code",
   "execution_count": 96,
   "metadata": {},
   "outputs": [],
   "source": [
    "import pandas as pd\n",
    "import numpy as np\n",
    "import time\n",
    "import re\n",
    "import seaborn as sns"
   ]
  },
  {
   "cell_type": "markdown",
   "metadata": {},
   "source": [
    "Get a place type frequency matrix for the stations:"
   ]
  },
  {
   "cell_type": "code",
   "execution_count": 97,
   "metadata": {
    "scrolled": false
   },
   "outputs": [
    {
     "data": {
      "text/html": [
       "<div>\n",
       "<style scoped>\n",
       "    .dataframe tbody tr th:only-of-type {\n",
       "        vertical-align: middle;\n",
       "    }\n",
       "\n",
       "    .dataframe tbody tr th {\n",
       "        vertical-align: top;\n",
       "    }\n",
       "\n",
       "    .dataframe thead th {\n",
       "        text-align: right;\n",
       "    }\n",
       "</style>\n",
       "<table border=\"1\" class=\"dataframe\">\n",
       "  <thead>\n",
       "    <tr style=\"text-align: right;\">\n",
       "      <th></th>\n",
       "      <th>StationName</th>\n",
       "      <th>mosque</th>\n",
       "      <th>point_of_interest</th>\n",
       "      <th>beauty_salon</th>\n",
       "      <th>embassy</th>\n",
       "      <th>car_dealer</th>\n",
       "      <th>hardware_store</th>\n",
       "      <th>liquor_store</th>\n",
       "      <th>bakery</th>\n",
       "      <th>florist</th>\n",
       "      <th>...</th>\n",
       "      <th>transit_station</th>\n",
       "      <th>tourist_attraction</th>\n",
       "      <th>supermarket</th>\n",
       "      <th>art_gallery</th>\n",
       "      <th>lodging</th>\n",
       "      <th>fire_station</th>\n",
       "      <th>roofing_contractor</th>\n",
       "      <th>hospital</th>\n",
       "      <th>car_repair</th>\n",
       "      <th>convenience_store</th>\n",
       "    </tr>\n",
       "  </thead>\n",
       "  <tbody>\n",
       "    <tr>\n",
       "      <th>0</th>\n",
       "      <td>Ballston Metro / Stuart St &amp; 9th St N</td>\n",
       "      <td>0</td>\n",
       "      <td>58</td>\n",
       "      <td>0</td>\n",
       "      <td>0</td>\n",
       "      <td>0</td>\n",
       "      <td>0</td>\n",
       "      <td>0</td>\n",
       "      <td>0</td>\n",
       "      <td>0</td>\n",
       "      <td>...</td>\n",
       "      <td>1</td>\n",
       "      <td>0</td>\n",
       "      <td>0</td>\n",
       "      <td>0</td>\n",
       "      <td>4</td>\n",
       "      <td>0</td>\n",
       "      <td>0</td>\n",
       "      <td>0</td>\n",
       "      <td>0</td>\n",
       "      <td>0</td>\n",
       "    </tr>\n",
       "    <tr>\n",
       "      <th>1</th>\n",
       "      <td>Fairfax Dr &amp; N Randolph St</td>\n",
       "      <td>0</td>\n",
       "      <td>58</td>\n",
       "      <td>0</td>\n",
       "      <td>0</td>\n",
       "      <td>0</td>\n",
       "      <td>0</td>\n",
       "      <td>1</td>\n",
       "      <td>0</td>\n",
       "      <td>0</td>\n",
       "      <td>...</td>\n",
       "      <td>1</td>\n",
       "      <td>0</td>\n",
       "      <td>0</td>\n",
       "      <td>0</td>\n",
       "      <td>2</td>\n",
       "      <td>0</td>\n",
       "      <td>0</td>\n",
       "      <td>0</td>\n",
       "      <td>0</td>\n",
       "      <td>1</td>\n",
       "    </tr>\n",
       "    <tr>\n",
       "      <th>2</th>\n",
       "      <td>Jefferson Memorial</td>\n",
       "      <td>0</td>\n",
       "      <td>13</td>\n",
       "      <td>0</td>\n",
       "      <td>0</td>\n",
       "      <td>0</td>\n",
       "      <td>0</td>\n",
       "      <td>0</td>\n",
       "      <td>0</td>\n",
       "      <td>0</td>\n",
       "      <td>...</td>\n",
       "      <td>1</td>\n",
       "      <td>1</td>\n",
       "      <td>0</td>\n",
       "      <td>0</td>\n",
       "      <td>0</td>\n",
       "      <td>0</td>\n",
       "      <td>0</td>\n",
       "      <td>0</td>\n",
       "      <td>0</td>\n",
       "      <td>0</td>\n",
       "    </tr>\n",
       "    <tr>\n",
       "      <th>3</th>\n",
       "      <td>Good Hope Rd &amp; 14th St SE</td>\n",
       "      <td>0</td>\n",
       "      <td>58</td>\n",
       "      <td>0</td>\n",
       "      <td>0</td>\n",
       "      <td>0</td>\n",
       "      <td>0</td>\n",
       "      <td>0</td>\n",
       "      <td>0</td>\n",
       "      <td>0</td>\n",
       "      <td>...</td>\n",
       "      <td>0</td>\n",
       "      <td>1</td>\n",
       "      <td>0</td>\n",
       "      <td>1</td>\n",
       "      <td>0</td>\n",
       "      <td>0</td>\n",
       "      <td>0</td>\n",
       "      <td>0</td>\n",
       "      <td>0</td>\n",
       "      <td>0</td>\n",
       "    </tr>\n",
       "    <tr>\n",
       "      <th>4</th>\n",
       "      <td>Glebe Rd &amp; 11th St N</td>\n",
       "      <td>0</td>\n",
       "      <td>58</td>\n",
       "      <td>0</td>\n",
       "      <td>0</td>\n",
       "      <td>0</td>\n",
       "      <td>0</td>\n",
       "      <td>0</td>\n",
       "      <td>0</td>\n",
       "      <td>0</td>\n",
       "      <td>...</td>\n",
       "      <td>0</td>\n",
       "      <td>0</td>\n",
       "      <td>0</td>\n",
       "      <td>0</td>\n",
       "      <td>1</td>\n",
       "      <td>0</td>\n",
       "      <td>0</td>\n",
       "      <td>0</td>\n",
       "      <td>1</td>\n",
       "      <td>0</td>\n",
       "    </tr>\n",
       "    <tr>\n",
       "      <th>...</th>\n",
       "      <td>...</td>\n",
       "      <td>...</td>\n",
       "      <td>...</td>\n",
       "      <td>...</td>\n",
       "      <td>...</td>\n",
       "      <td>...</td>\n",
       "      <td>...</td>\n",
       "      <td>...</td>\n",
       "      <td>...</td>\n",
       "      <td>...</td>\n",
       "      <td>...</td>\n",
       "      <td>...</td>\n",
       "      <td>...</td>\n",
       "      <td>...</td>\n",
       "      <td>...</td>\n",
       "      <td>...</td>\n",
       "      <td>...</td>\n",
       "      <td>...</td>\n",
       "      <td>...</td>\n",
       "      <td>...</td>\n",
       "      <td>...</td>\n",
       "    </tr>\n",
       "    <tr>\n",
       "      <th>590</th>\n",
       "      <td>White Oak Transit Center</td>\n",
       "      <td>0</td>\n",
       "      <td>59</td>\n",
       "      <td>2</td>\n",
       "      <td>0</td>\n",
       "      <td>0</td>\n",
       "      <td>0</td>\n",
       "      <td>1</td>\n",
       "      <td>0</td>\n",
       "      <td>0</td>\n",
       "      <td>...</td>\n",
       "      <td>2</td>\n",
       "      <td>0</td>\n",
       "      <td>0</td>\n",
       "      <td>0</td>\n",
       "      <td>0</td>\n",
       "      <td>0</td>\n",
       "      <td>0</td>\n",
       "      <td>0</td>\n",
       "      <td>0</td>\n",
       "      <td>2</td>\n",
       "    </tr>\n",
       "    <tr>\n",
       "      <th>591</th>\n",
       "      <td>Wilson Blvd. &amp; N. Vermont St.</td>\n",
       "      <td>0</td>\n",
       "      <td>58</td>\n",
       "      <td>0</td>\n",
       "      <td>0</td>\n",
       "      <td>0</td>\n",
       "      <td>0</td>\n",
       "      <td>1</td>\n",
       "      <td>0</td>\n",
       "      <td>0</td>\n",
       "      <td>...</td>\n",
       "      <td>0</td>\n",
       "      <td>0</td>\n",
       "      <td>0</td>\n",
       "      <td>0</td>\n",
       "      <td>1</td>\n",
       "      <td>0</td>\n",
       "      <td>0</td>\n",
       "      <td>0</td>\n",
       "      <td>0</td>\n",
       "      <td>0</td>\n",
       "    </tr>\n",
       "    <tr>\n",
       "      <th>592</th>\n",
       "      <td>Minnesota Ave &amp; R St SE</td>\n",
       "      <td>0</td>\n",
       "      <td>37</td>\n",
       "      <td>0</td>\n",
       "      <td>0</td>\n",
       "      <td>0</td>\n",
       "      <td>0</td>\n",
       "      <td>0</td>\n",
       "      <td>0</td>\n",
       "      <td>0</td>\n",
       "      <td>...</td>\n",
       "      <td>6</td>\n",
       "      <td>0</td>\n",
       "      <td>0</td>\n",
       "      <td>0</td>\n",
       "      <td>1</td>\n",
       "      <td>0</td>\n",
       "      <td>0</td>\n",
       "      <td>0</td>\n",
       "      <td>0</td>\n",
       "      <td>0</td>\n",
       "    </tr>\n",
       "    <tr>\n",
       "      <th>593</th>\n",
       "      <td>Vy Reston Heights</td>\n",
       "      <td>0</td>\n",
       "      <td>59</td>\n",
       "      <td>0</td>\n",
       "      <td>0</td>\n",
       "      <td>0</td>\n",
       "      <td>0</td>\n",
       "      <td>0</td>\n",
       "      <td>0</td>\n",
       "      <td>0</td>\n",
       "      <td>...</td>\n",
       "      <td>0</td>\n",
       "      <td>0</td>\n",
       "      <td>0</td>\n",
       "      <td>0</td>\n",
       "      <td>1</td>\n",
       "      <td>0</td>\n",
       "      <td>0</td>\n",
       "      <td>1</td>\n",
       "      <td>0</td>\n",
       "      <td>0</td>\n",
       "    </tr>\n",
       "    <tr>\n",
       "      <th>594</th>\n",
       "      <td>1st &amp; K NE</td>\n",
       "      <td>0</td>\n",
       "      <td>58</td>\n",
       "      <td>0</td>\n",
       "      <td>0</td>\n",
       "      <td>0</td>\n",
       "      <td>0</td>\n",
       "      <td>0</td>\n",
       "      <td>0</td>\n",
       "      <td>0</td>\n",
       "      <td>...</td>\n",
       "      <td>0</td>\n",
       "      <td>0</td>\n",
       "      <td>0</td>\n",
       "      <td>0</td>\n",
       "      <td>0</td>\n",
       "      <td>0</td>\n",
       "      <td>0</td>\n",
       "      <td>1</td>\n",
       "      <td>1</td>\n",
       "      <td>0</td>\n",
       "    </tr>\n",
       "  </tbody>\n",
       "</table>\n",
       "<p>595 rows × 102 columns</p>\n",
       "</div>"
      ],
      "text/plain": [
       "                               StationName  mosque  point_of_interest  \\\n",
       "0    Ballston Metro / Stuart St & 9th St N       0                 58   \n",
       "1               Fairfax Dr & N Randolph St       0                 58   \n",
       "2                       Jefferson Memorial       0                 13   \n",
       "3                Good Hope Rd & 14th St SE       0                 58   \n",
       "4                     Glebe Rd & 11th St N       0                 58   \n",
       "..                                     ...     ...                ...   \n",
       "590               White Oak Transit Center       0                 59   \n",
       "591          Wilson Blvd. & N. Vermont St.       0                 58   \n",
       "592                Minnesota Ave & R St SE       0                 37   \n",
       "593                      Vy Reston Heights       0                 59   \n",
       "594                             1st & K NE       0                 58   \n",
       "\n",
       "     beauty_salon  embassy  car_dealer  hardware_store  liquor_store  bakery  \\\n",
       "0               0        0           0               0             0       0   \n",
       "1               0        0           0               0             1       0   \n",
       "2               0        0           0               0             0       0   \n",
       "3               0        0           0               0             0       0   \n",
       "4               0        0           0               0             0       0   \n",
       "..            ...      ...         ...             ...           ...     ...   \n",
       "590             2        0           0               0             1       0   \n",
       "591             0        0           0               0             1       0   \n",
       "592             0        0           0               0             0       0   \n",
       "593             0        0           0               0             0       0   \n",
       "594             0        0           0               0             0       0   \n",
       "\n",
       "     florist  ...  transit_station  tourist_attraction  supermarket  \\\n",
       "0          0  ...                1                   0            0   \n",
       "1          0  ...                1                   0            0   \n",
       "2          0  ...                1                   1            0   \n",
       "3          0  ...                0                   1            0   \n",
       "4          0  ...                0                   0            0   \n",
       "..       ...  ...              ...                 ...          ...   \n",
       "590        0  ...                2                   0            0   \n",
       "591        0  ...                0                   0            0   \n",
       "592        0  ...                6                   0            0   \n",
       "593        0  ...                0                   0            0   \n",
       "594        0  ...                0                   0            0   \n",
       "\n",
       "     art_gallery  lodging  fire_station  roofing_contractor  hospital  \\\n",
       "0              0        4             0                   0         0   \n",
       "1              0        2             0                   0         0   \n",
       "2              0        0             0                   0         0   \n",
       "3              1        0             0                   0         0   \n",
       "4              0        1             0                   0         0   \n",
       "..           ...      ...           ...                 ...       ...   \n",
       "590            0        0             0                   0         0   \n",
       "591            0        1             0                   0         0   \n",
       "592            0        1             0                   0         0   \n",
       "593            0        1             0                   0         1   \n",
       "594            0        0             0                   0         1   \n",
       "\n",
       "     car_repair  convenience_store  \n",
       "0             0                  0  \n",
       "1             0                  1  \n",
       "2             0                  0  \n",
       "3             0                  0  \n",
       "4             1                  0  \n",
       "..          ...                ...  \n",
       "590           0                  2  \n",
       "591           0                  0  \n",
       "592           0                  0  \n",
       "593           0                  0  \n",
       "594           1                  0  \n",
       "\n",
       "[595 rows x 102 columns]"
      ]
     },
     "execution_count": 97,
     "metadata": {},
     "output_type": "execute_result"
    }
   ],
   "source": [
    "label_matrix = pd.read_csv(\"Places_near_stations_type_count_matrix_all.csv\", index_col = 0)\n",
    "label_matrix"
   ]
  },
  {
   "cell_type": "markdown",
   "metadata": {},
   "source": [
    "**Standardizing data**:\n",
    "1. Standardize by row;\n",
    "2. Add \"total number of tags\" as a separate feature"
   ]
  },
  {
   "cell_type": "code",
   "execution_count": 98,
   "metadata": {
    "scrolled": true
   },
   "outputs": [
    {
     "name": "stderr",
     "output_type": "stream",
     "text": [
      "C:\\Users\\rosen_000\\Anaconda3b\\lib\\site-packages\\sklearn\\utils\\validation.py:475: DataConversionWarning: Data with input dtype int64 was converted to float64 by StandardScaler.\n",
      "  warnings.warn(msg, DataConversionWarning)\n",
      "C:\\Users\\rosen_000\\Anaconda3b\\lib\\site-packages\\sklearn\\utils\\validation.py:475: DataConversionWarning: Data with input dtype int64 was converted to float64 by StandardScaler.\n",
      "  warnings.warn(msg, DataConversionWarning)\n"
     ]
    }
   ],
   "source": [
    "from sklearn.preprocessing import Normalizer\n",
    "from sklearn.preprocessing import StandardScaler\n",
    "tag_sum = label_matrix.sum(axis=1)\n",
    "tag_sum_normalized = StandardScaler().fit_transform(np.array(tag_sum).reshape(-1, 1))\n",
    "x = label_matrix[label_matrix.columns[label_matrix.columns!='StationName']].values\n",
    "x = pd.DataFrame(Normalizer().fit_transform(x))\n",
    "x.columns = label_matrix.columns[label_matrix.columns!='StationName']\n",
    "#x['tag_sum'] = tag_sum_normalized\n",
    "x = x.values\n",
    "\n",
    "y = label_matrix['StationName'].values"
   ]
  },
  {
   "cell_type": "markdown",
   "metadata": {},
   "source": [
    "### Unsupervised learning task: clustering station based on nearby place type"
   ]
  },
  {
   "cell_type": "markdown",
   "metadata": {},
   "source": [
    "K-means clustering"
   ]
  },
  {
   "cell_type": "code",
   "execution_count": 99,
   "metadata": {},
   "outputs": [
    {
     "data": {
      "image/png": "[encoded data removed]",
      "text/plain": [
       "<Figure size 432x288 with 1 Axes>"
      ]
     },
     "metadata": {
      "needs_background": "light"
     },
     "output_type": "display_data"
    }
   ],
   "source": [
    "from sklearn.cluster import KMeans\n",
    "distortions = []\n",
    "for i in range(1, 31):\n",
    "    km = KMeans(\n",
    "        n_clusters=i, init='random',\n",
    "        n_init=10, max_iter=300,\n",
    "        tol=1e-04, random_state=0\n",
    "    )\n",
    "    km.fit(x)\n",
    "    distortions.append(km.inertia_)\n",
    "\n",
    "import matplotlib.pyplot as plt\n",
    "plt.plot(range(1, 31), distortions, marker='o')\n",
    "plt.xlabel('Number of clusters')\n",
    "plt.ylabel('Distortion')\n",
    "plt.show()"
   ]
  },
  {
   "cell_type": "code",
   "execution_count": 100,
   "metadata": {},
   "outputs": [],
   "source": [
    "from sklearn.cluster import KMeans\n",
    "km = KMeans(\n",
    "        n_clusters=10, init='random',\n",
    "        n_init=10, max_iter=1000,\n",
    "        tol=1e-05, random_state=0\n",
    ")\n",
    "cluster_labels2 = km.fit_predict(x)"
   ]
  },
  {
   "cell_type": "markdown",
   "metadata": {},
   "source": [
    "PCA:"
   ]
  },
  {
   "cell_type": "code",
   "execution_count": 25,
   "metadata": {},
   "outputs": [
    {
     "data": {
      "text/plain": [
       "array([0.34928564, 0.1813255 , 0.09527553, 0.07520893, 0.04848564])"
      ]
     },
     "execution_count": 25,
     "metadata": {},
     "output_type": "execute_result"
    }
   ],
   "source": [
    "from sklearn.decomposition import PCA\n",
    "pca = PCA(n_components=5)\n",
    "principalComponents = pca.fit_transform(x)\n",
    "principalDf = pd.DataFrame(principalComponents, columns=('PC1', 'PC2','PC3','PC4','PC5'))\n",
    "principalDf['KMcluster'] = cluster_labels2.astype(object)\n",
    "pca.explained_variance_ratio_"
   ]
  },
  {
   "cell_type": "code",
   "execution_count": 26,
   "metadata": {
    "scrolled": false
   },
   "outputs": [
    {
     "data": {
      "text/plain": [
       "<seaborn.axisgrid.FacetGrid at 0x2869d996eb8>"
      ]
     },
     "execution_count": 26,
     "metadata": {},
     "output_type": "execute_result"
    },
    {
     "data": {
      "image/png": "[encoded data removed]",
      "text/plain": [
       "<Figure size 417.25x360 with 1 Axes>"
      ]
     },
     "metadata": {
      "needs_background": "light"
     },
     "output_type": "display_data"
    }
   ],
   "source": [
    "sns.lmplot( x='PC1', y='PC2', data=principalDf, fit_reg=False, hue='KMcluster', legend=True)"
   ]
  },
  {
   "cell_type": "code",
   "execution_count": 27,
   "metadata": {
    "scrolled": false
   },
   "outputs": [
    {
     "data": {
      "text/plain": [
       "<seaborn.axisgrid.FacetGrid at 0x2869da96b38>"
      ]
     },
     "execution_count": 27,
     "metadata": {},
     "output_type": "execute_result"
    },
    {
     "data": {
      "image/png": "[encoded data removed]",
      "text/plain": [
       "<Figure size 417.25x360 with 1 Axes>"
      ]
     },
     "metadata": {
      "needs_background": "light"
     },
     "output_type": "display_data"
    }
   ],
   "source": [
    "sns.lmplot( x='PC2', y='PC3', data=principalDf, fit_reg=False, hue='KMcluster', legend=True)"
   ]
  },
  {
   "cell_type": "markdown",
   "metadata": {},
   "source": [
    "**Kernel PCA:**\n",
    "A polynomial kernal is used because it gives the largest dominant eigenvalue."
   ]
  },
  {
   "cell_type": "code",
   "execution_count": 28,
   "metadata": {},
   "outputs": [],
   "source": [
    "from sklearn.decomposition import KernelPCA\n",
    "kpca = KernelPCA(n_components=5, kernel = 'poly')\n",
    "kprincipalComponents = kpca.fit_transform(x)\n",
    "kprincipalDf = pd.DataFrame(kprincipalComponents, columns=('PC1', 'PC2','PC3','PC4','PC5'))\n",
    "kprincipalDf['KMcluster'] = cluster_labels2.astype(object)"
   ]
  },
  {
   "cell_type": "code",
   "execution_count": 29,
   "metadata": {},
   "outputs": [
    {
     "data": {
      "text/plain": [
       "array([0.34456392, 0.17905841, 0.09409653, 0.0740639 , 0.04775732])"
      ]
     },
     "execution_count": 29,
     "metadata": {},
     "output_type": "execute_result"
    }
   ],
   "source": [
    "kpca.lambdas_"
   ]
  },
  {
   "cell_type": "code",
   "execution_count": 30,
   "metadata": {},
   "outputs": [
    {
     "data": {
      "text/plain": [
       "<seaborn.axisgrid.FacetGrid at 0x2869db67320>"
      ]
     },
     "execution_count": 30,
     "metadata": {},
     "output_type": "execute_result"
    },
    {
     "data": {
      "image/png": "[encoded data removed]",
      "text/plain": [
       "<Figure size 417.25x360 with 1 Axes>"
      ]
     },
     "metadata": {
      "needs_background": "light"
     },
     "output_type": "display_data"
    }
   ],
   "source": [
    "sns.lmplot( x='PC1', y='PC2', data=kprincipalDf, fit_reg=False, hue='KMcluster', legend=True)"
   ]
  },
  {
   "cell_type": "code",
   "execution_count": 47,
   "metadata": {},
   "outputs": [
    {
     "data": {
      "image/png": "[encoded data removed]",
      "text/plain": [
       "<Figure size 417.25x360 with 1 Axes>"
      ]
     },
     "metadata": {
      "needs_background": "light"
     },
     "output_type": "display_data"
    }
   ],
   "source": [
    "sns.lmplot( x='PC2', y='PC3', data=kprincipalDf, fit_reg=False, hue='KMcluster', legend=True)"
   ]
  },
  {
   "cell_type": "markdown",
   "metadata": {},
   "source": [
    "The polynomial kernal PCA slightly enlarged PC2 and PC3 features, but overall the result looks highly similar to that of linear PCA. "
   ]
  },
  {
   "cell_type": "markdown",
   "metadata": {},
   "source": [
    "Do the clusters have interpretable meanings? $\\Rightarrow$ time for a sanity check."
   ]
  },
  {
   "cell_type": "code",
   "execution_count": 108,
   "metadata": {
    "scrolled": false
   },
   "outputs": [
    {
     "ename": "FileNotFoundError",
     "evalue": "[Errno 2] File ../Project/count_per_category.csv does not exist: '../Project/count_per_category.csv'",
     "output_type": "error",
     "traceback": [
      "\u001b[1;31m---------------------------------------------------------------------------\u001b[0m",
      "\u001b[1;31mFileNotFoundError\u001b[0m                         Traceback (most recent call last)",
      "\u001b[1;32m<ipython-input-108-73bd27f78874>\u001b[0m in \u001b[0;36m<module>\u001b[1;34m()\u001b[0m\n\u001b[1;32m----> 1\u001b[1;33m \u001b[0mcount_per_category\u001b[0m \u001b[1;33m=\u001b[0m \u001b[0mpd\u001b[0m\u001b[1;33m.\u001b[0m\u001b[0mread_csv\u001b[0m\u001b[1;33m(\u001b[0m\u001b[1;34m\"../Project/count_per_category.csv\"\u001b[0m\u001b[1;33m,\u001b[0m \u001b[0mindex_col\u001b[0m\u001b[1;33m=\u001b[0m\u001b[1;36m0\u001b[0m\u001b[1;33m)\u001b[0m\u001b[1;33m\u001b[0m\u001b[0m\n\u001b[0m\u001b[0;32m      2\u001b[0m \u001b[0mcount_per_category\u001b[0m\u001b[1;33m\u001b[0m\u001b[0m\n",
      "\u001b[1;32m~\\Anaconda3b\\lib\\site-packages\\pandas\\io\\parsers.py\u001b[0m in \u001b[0;36mparser_f\u001b[1;34m(filepath_or_buffer, sep, delimiter, header, names, index_col, usecols, squeeze, prefix, mangle_dupe_cols, dtype, engine, converters, true_values, false_values, skipinitialspace, skiprows, skipfooter, nrows, na_values, keep_default_na, na_filter, verbose, skip_blank_lines, parse_dates, infer_datetime_format, keep_date_col, date_parser, dayfirst, cache_dates, iterator, chunksize, compression, thousands, decimal, lineterminator, quotechar, quoting, doublequote, escapechar, comment, encoding, dialect, error_bad_lines, warn_bad_lines, delim_whitespace, low_memory, memory_map, float_precision)\u001b[0m\n\u001b[0;32m    674\u001b[0m         )\n\u001b[0;32m    675\u001b[0m \u001b[1;33m\u001b[0m\u001b[0m\n\u001b[1;32m--> 676\u001b[1;33m         \u001b[1;32mreturn\u001b[0m \u001b[0m_read\u001b[0m\u001b[1;33m(\u001b[0m\u001b[0mfilepath_or_buffer\u001b[0m\u001b[1;33m,\u001b[0m \u001b[0mkwds\u001b[0m\u001b[1;33m)\u001b[0m\u001b[1;33m\u001b[0m\u001b[0m\n\u001b[0m\u001b[0;32m    677\u001b[0m \u001b[1;33m\u001b[0m\u001b[0m\n\u001b[0;32m    678\u001b[0m     \u001b[0mparser_f\u001b[0m\u001b[1;33m.\u001b[0m\u001b[0m__name__\u001b[0m \u001b[1;33m=\u001b[0m \u001b[0mname\u001b[0m\u001b[1;33m\u001b[0m\u001b[0m\n",
      "\u001b[1;32m~\\Anaconda3b\\lib\\site-packages\\pandas\\io\\parsers.py\u001b[0m in \u001b[0;36m_read\u001b[1;34m(filepath_or_buffer, kwds)\u001b[0m\n\u001b[0;32m    446\u001b[0m \u001b[1;33m\u001b[0m\u001b[0m\n\u001b[0;32m    447\u001b[0m     \u001b[1;31m# Create the parser.\u001b[0m\u001b[1;33m\u001b[0m\u001b[1;33m\u001b[0m\u001b[0m\n\u001b[1;32m--> 448\u001b[1;33m     \u001b[0mparser\u001b[0m \u001b[1;33m=\u001b[0m \u001b[0mTextFileReader\u001b[0m\u001b[1;33m(\u001b[0m\u001b[0mfp_or_buf\u001b[0m\u001b[1;33m,\u001b[0m \u001b[1;33m**\u001b[0m\u001b[0mkwds\u001b[0m\u001b[1;33m)\u001b[0m\u001b[1;33m\u001b[0m\u001b[0m\n\u001b[0m\u001b[0;32m    449\u001b[0m \u001b[1;33m\u001b[0m\u001b[0m\n\u001b[0;32m    450\u001b[0m     \u001b[1;32mif\u001b[0m \u001b[0mchunksize\u001b[0m \u001b[1;32mor\u001b[0m \u001b[0miterator\u001b[0m\u001b[1;33m:\u001b[0m\u001b[1;33m\u001b[0m\u001b[0m\n",
      "\u001b[1;32m~\\Anaconda3b\\lib\\site-packages\\pandas\\io\\parsers.py\u001b[0m in \u001b[0;36m__init__\u001b[1;34m(self, f, engine, **kwds)\u001b[0m\n\u001b[0;32m    878\u001b[0m             \u001b[0mself\u001b[0m\u001b[1;33m.\u001b[0m\u001b[0moptions\u001b[0m\u001b[1;33m[\u001b[0m\u001b[1;34m\"has_index_names\"\u001b[0m\u001b[1;33m]\u001b[0m \u001b[1;33m=\u001b[0m \u001b[0mkwds\u001b[0m\u001b[1;33m[\u001b[0m\u001b[1;34m\"has_index_names\"\u001b[0m\u001b[1;33m]\u001b[0m\u001b[1;33m\u001b[0m\u001b[0m\n\u001b[0;32m    879\u001b[0m \u001b[1;33m\u001b[0m\u001b[0m\n\u001b[1;32m--> 880\u001b[1;33m         \u001b[0mself\u001b[0m\u001b[1;33m.\u001b[0m\u001b[0m_make_engine\u001b[0m\u001b[1;33m(\u001b[0m\u001b[0mself\u001b[0m\u001b[1;33m.\u001b[0m\u001b[0mengine\u001b[0m\u001b[1;33m)\u001b[0m\u001b[1;33m\u001b[0m\u001b[0m\n\u001b[0m\u001b[0;32m    881\u001b[0m \u001b[1;33m\u001b[0m\u001b[0m\n\u001b[0;32m    882\u001b[0m     \u001b[1;32mdef\u001b[0m \u001b[0mclose\u001b[0m\u001b[1;33m(\u001b[0m\u001b[0mself\u001b[0m\u001b[1;33m)\u001b[0m\u001b[1;33m:\u001b[0m\u001b[1;33m\u001b[0m\u001b[0m\n",
      "\u001b[1;32m~\\Anaconda3b\\lib\\site-packages\\pandas\\io\\parsers.py\u001b[0m in \u001b[0;36m_make_engine\u001b[1;34m(self, engine)\u001b[0m\n\u001b[0;32m   1112\u001b[0m     \u001b[1;32mdef\u001b[0m \u001b[0m_make_engine\u001b[0m\u001b[1;33m(\u001b[0m\u001b[0mself\u001b[0m\u001b[1;33m,\u001b[0m \u001b[0mengine\u001b[0m\u001b[1;33m=\u001b[0m\u001b[1;34m\"c\"\u001b[0m\u001b[1;33m)\u001b[0m\u001b[1;33m:\u001b[0m\u001b[1;33m\u001b[0m\u001b[0m\n\u001b[0;32m   1113\u001b[0m         \u001b[1;32mif\u001b[0m \u001b[0mengine\u001b[0m \u001b[1;33m==\u001b[0m \u001b[1;34m\"c\"\u001b[0m\u001b[1;33m:\u001b[0m\u001b[1;33m\u001b[0m\u001b[0m\n\u001b[1;32m-> 1114\u001b[1;33m             \u001b[0mself\u001b[0m\u001b[1;33m.\u001b[0m\u001b[0m_engine\u001b[0m \u001b[1;33m=\u001b[0m \u001b[0mCParserWrapper\u001b[0m\u001b[1;33m(\u001b[0m\u001b[0mself\u001b[0m\u001b[1;33m.\u001b[0m\u001b[0mf\u001b[0m\u001b[1;33m,\u001b[0m \u001b[1;33m**\u001b[0m\u001b[0mself\u001b[0m\u001b[1;33m.\u001b[0m\u001b[0moptions\u001b[0m\u001b[1;33m)\u001b[0m\u001b[1;33m\u001b[0m\u001b[0m\n\u001b[0m\u001b[0;32m   1115\u001b[0m         \u001b[1;32melse\u001b[0m\u001b[1;33m:\u001b[0m\u001b[1;33m\u001b[0m\u001b[0m\n\u001b[0;32m   1116\u001b[0m             \u001b[1;32mif\u001b[0m \u001b[0mengine\u001b[0m \u001b[1;33m==\u001b[0m \u001b[1;34m\"python\"\u001b[0m\u001b[1;33m:\u001b[0m\u001b[1;33m\u001b[0m\u001b[0m\n",
      "\u001b[1;32m~\\Anaconda3b\\lib\\site-packages\\pandas\\io\\parsers.py\u001b[0m in \u001b[0;36m__init__\u001b[1;34m(self, src, **kwds)\u001b[0m\n\u001b[0;32m   1889\u001b[0m         \u001b[0mkwds\u001b[0m\u001b[1;33m[\u001b[0m\u001b[1;34m\"usecols\"\u001b[0m\u001b[1;33m]\u001b[0m \u001b[1;33m=\u001b[0m \u001b[0mself\u001b[0m\u001b[1;33m.\u001b[0m\u001b[0musecols\u001b[0m\u001b[1;33m\u001b[0m\u001b[0m\n\u001b[0;32m   1890\u001b[0m \u001b[1;33m\u001b[0m\u001b[0m\n\u001b[1;32m-> 1891\u001b[1;33m         \u001b[0mself\u001b[0m\u001b[1;33m.\u001b[0m\u001b[0m_reader\u001b[0m \u001b[1;33m=\u001b[0m \u001b[0mparsers\u001b[0m\u001b[1;33m.\u001b[0m\u001b[0mTextReader\u001b[0m\u001b[1;33m(\u001b[0m\u001b[0msrc\u001b[0m\u001b[1;33m,\u001b[0m \u001b[1;33m**\u001b[0m\u001b[0mkwds\u001b[0m\u001b[1;33m)\u001b[0m\u001b[1;33m\u001b[0m\u001b[0m\n\u001b[0m\u001b[0;32m   1892\u001b[0m         \u001b[0mself\u001b[0m\u001b[1;33m.\u001b[0m\u001b[0munnamed_cols\u001b[0m \u001b[1;33m=\u001b[0m \u001b[0mself\u001b[0m\u001b[1;33m.\u001b[0m\u001b[0m_reader\u001b[0m\u001b[1;33m.\u001b[0m\u001b[0munnamed_cols\u001b[0m\u001b[1;33m\u001b[0m\u001b[0m\n\u001b[0;32m   1893\u001b[0m \u001b[1;33m\u001b[0m\u001b[0m\n",
      "\u001b[1;32mpandas\\_libs\\parsers.pyx\u001b[0m in \u001b[0;36mpandas._libs.parsers.TextReader.__cinit__\u001b[1;34m()\u001b[0m\n",
      "\u001b[1;32mpandas\\_libs\\parsers.pyx\u001b[0m in \u001b[0;36mpandas._libs.parsers.TextReader._setup_parser_source\u001b[1;34m()\u001b[0m\n",
      "\u001b[1;31mFileNotFoundError\u001b[0m: [Errno 2] File ../Project/count_per_category.csv does not exist: '../Project/count_per_category.csv'"
     ]
    }
   ],
   "source": [
    "count_per_category = pd.read_csv(\"../Project/count_per_category.csv\", index_col=0)\n",
    "count_per_category"
   ]
  },
  {
   "cell_type": "code",
   "execution_count": null,
   "metadata": {},
   "outputs": [],
   "source": [
    "Category_matrix = pd.read_csv(\"../Project/Categories_near_stations_type_count_matrix_all.csv\", index_col = 0)\n",
    "cat_list = __builtins__.list(set(count_per_category['Category']))\n",
    "cluster_pred = pd.DataFrame({'cluster': cluster_labels2, 'StationName' : label_matrix['StationName']})\n",
    "cluster_category = pd.concat([cluster_pred, Category_matrix[cat_list]], axis = 1)\n",
    "cluster_category = cluster_category.groupby(\"cluster\").sum().reset_index()\n",
    "cluster_category[cat_list] = StandardScaler().fit_transform(cluster_category[cat_list])\n",
    "cluster_category.index = cluster_category['cluster']"
   ]
  },
  {
   "cell_type": "code",
   "execution_count": null,
   "metadata": {},
   "outputs": [],
   "source": [
    "Category_matrix"
   ]
  },
  {
   "cell_type": "code",
   "execution_count": null,
   "metadata": {},
   "outputs": [],
   "source": [
    "import seaborn as sns\n",
    "ax = sns.heatmap(cluster_category[cat_list], linewidth=0.5)\n",
    "plt.show()"
   ]
  },
  {
   "cell_type": "markdown",
   "metadata": {},
   "source": [
    "The cluster architecture clearly corresponds to the functional zoning of a city. Cluster 1 appears to be the political/tourist center of DC, and cluster 2 a business area. Clusters 3&4 appear to be two health circles. Cluster 5 is a combination of religious activity centers, universities, and transportation centers. "
   ]
  },
  {
   "cell_type": "code",
   "execution_count": null,
   "metadata": {
    "scrolled": true
   },
   "outputs": [],
   "source": [
    "count_per_cluster = cluster_pred.groupby(\"cluster\").count().reset_index()\n",
    "count_per_cluster"
   ]
  },
  {
   "cell_type": "code",
   "execution_count": null,
   "metadata": {},
   "outputs": [],
   "source": [
    "cluster_pred = pd.DataFrame({'cluster': cluster_labels2, 'StationName' : label_matrix['StationName']})"
   ]
  },
  {
   "cell_type": "code",
   "execution_count": 21,
   "metadata": {},
   "outputs": [],
   "source": [
    "stations = pd.read_csv(\"../Project/Capital_Bike_Share_Locations.csv\")\n",
    "stations2 = stations[['TERMINAL_NUMBER','ADDRESS']]\n",
    "stations2 = stations2.rename(columns={\"ADDRESS\":\"StationName\"})\n",
    "station_cluster = pd.merge(stations2, cluster_pred, on = 'StationName')\n",
    "station_cluster = station_cluster.rename(columns={\"TERMINAL_NUMBER\":\"Station_Number\"})\n",
    "station_cluster\n",
    "station_cluster.to_csv(\"../Project/Station_cluster.csv\")"
   ]
  },
  {
   "cell_type": "markdown",
   "metadata": {},
   "source": [
    "### Finally, load the ride data!"
   ]
  },
  {
   "cell_type": "code",
   "execution_count": 19,
   "metadata": {},
   "outputs": [
    {
     "ename": "FileNotFoundError",
     "evalue": "[Errno 2] File ../Project/202003-capitalbikeshare-tripdata.csv does not exist: '../Project/202003-capitalbikeshare-tripdata.csv'",
     "output_type": "error",
     "traceback": [
      "\u001b[1;31m---------------------------------------------------------------------------\u001b[0m",
      "\u001b[1;31mFileNotFoundError\u001b[0m                         Traceback (most recent call last)",
      "\u001b[1;32m<ipython-input-19-dbf046fbb34b>\u001b[0m in \u001b[0;36m<module>\u001b[1;34m()\u001b[0m\n\u001b[1;32m----> 1\u001b[1;33m \u001b[0mdata\u001b[0m \u001b[1;33m=\u001b[0m \u001b[0mpd\u001b[0m\u001b[1;33m.\u001b[0m\u001b[0mread_csv\u001b[0m\u001b[1;33m(\u001b[0m\u001b[1;34m\"../Project/202003-capitalbikeshare-tripdata.csv\"\u001b[0m\u001b[1;33m)\u001b[0m\u001b[1;33m\u001b[0m\u001b[0m\n\u001b[0m\u001b[0;32m      2\u001b[0m \u001b[0mdata\u001b[0m\u001b[1;33m\u001b[0m\u001b[0m\n",
      "\u001b[1;32m~\\Anaconda3b\\lib\\site-packages\\pandas\\io\\parsers.py\u001b[0m in \u001b[0;36mparser_f\u001b[1;34m(filepath_or_buffer, sep, delimiter, header, names, index_col, usecols, squeeze, prefix, mangle_dupe_cols, dtype, engine, converters, true_values, false_values, skipinitialspace, skiprows, skipfooter, nrows, na_values, keep_default_na, na_filter, verbose, skip_blank_lines, parse_dates, infer_datetime_format, keep_date_col, date_parser, dayfirst, cache_dates, iterator, chunksize, compression, thousands, decimal, lineterminator, quotechar, quoting, doublequote, escapechar, comment, encoding, dialect, error_bad_lines, warn_bad_lines, delim_whitespace, low_memory, memory_map, float_precision)\u001b[0m\n\u001b[0;32m    674\u001b[0m         )\n\u001b[0;32m    675\u001b[0m \u001b[1;33m\u001b[0m\u001b[0m\n\u001b[1;32m--> 676\u001b[1;33m         \u001b[1;32mreturn\u001b[0m \u001b[0m_read\u001b[0m\u001b[1;33m(\u001b[0m\u001b[0mfilepath_or_buffer\u001b[0m\u001b[1;33m,\u001b[0m \u001b[0mkwds\u001b[0m\u001b[1;33m)\u001b[0m\u001b[1;33m\u001b[0m\u001b[0m\n\u001b[0m\u001b[0;32m    677\u001b[0m \u001b[1;33m\u001b[0m\u001b[0m\n\u001b[0;32m    678\u001b[0m     \u001b[0mparser_f\u001b[0m\u001b[1;33m.\u001b[0m\u001b[0m__name__\u001b[0m \u001b[1;33m=\u001b[0m \u001b[0mname\u001b[0m\u001b[1;33m\u001b[0m\u001b[0m\n",
      "\u001b[1;32m~\\Anaconda3b\\lib\\site-packages\\pandas\\io\\parsers.py\u001b[0m in \u001b[0;36m_read\u001b[1;34m(filepath_or_buffer, kwds)\u001b[0m\n\u001b[0;32m    446\u001b[0m \u001b[1;33m\u001b[0m\u001b[0m\n\u001b[0;32m    447\u001b[0m     \u001b[1;31m# Create the parser.\u001b[0m\u001b[1;33m\u001b[0m\u001b[1;33m\u001b[0m\u001b[0m\n\u001b[1;32m--> 448\u001b[1;33m     \u001b[0mparser\u001b[0m \u001b[1;33m=\u001b[0m \u001b[0mTextFileReader\u001b[0m\u001b[1;33m(\u001b[0m\u001b[0mfp_or_buf\u001b[0m\u001b[1;33m,\u001b[0m \u001b[1;33m**\u001b[0m\u001b[0mkwds\u001b[0m\u001b[1;33m)\u001b[0m\u001b[1;33m\u001b[0m\u001b[0m\n\u001b[0m\u001b[0;32m    449\u001b[0m \u001b[1;33m\u001b[0m\u001b[0m\n\u001b[0;32m    450\u001b[0m     \u001b[1;32mif\u001b[0m \u001b[0mchunksize\u001b[0m \u001b[1;32mor\u001b[0m \u001b[0miterator\u001b[0m\u001b[1;33m:\u001b[0m\u001b[1;33m\u001b[0m\u001b[0m\n",
      "\u001b[1;32m~\\Anaconda3b\\lib\\site-packages\\pandas\\io\\parsers.py\u001b[0m in \u001b[0;36m__init__\u001b[1;34m(self, f, engine, **kwds)\u001b[0m\n\u001b[0;32m    878\u001b[0m             \u001b[0mself\u001b[0m\u001b[1;33m.\u001b[0m\u001b[0moptions\u001b[0m\u001b[1;33m[\u001b[0m\u001b[1;34m\"has_index_names\"\u001b[0m\u001b[1;33m]\u001b[0m \u001b[1;33m=\u001b[0m \u001b[0mkwds\u001b[0m\u001b[1;33m[\u001b[0m\u001b[1;34m\"has_index_names\"\u001b[0m\u001b[1;33m]\u001b[0m\u001b[1;33m\u001b[0m\u001b[0m\n\u001b[0;32m    879\u001b[0m \u001b[1;33m\u001b[0m\u001b[0m\n\u001b[1;32m--> 880\u001b[1;33m         \u001b[0mself\u001b[0m\u001b[1;33m.\u001b[0m\u001b[0m_make_engine\u001b[0m\u001b[1;33m(\u001b[0m\u001b[0mself\u001b[0m\u001b[1;33m.\u001b[0m\u001b[0mengine\u001b[0m\u001b[1;33m)\u001b[0m\u001b[1;33m\u001b[0m\u001b[0m\n\u001b[0m\u001b[0;32m    881\u001b[0m \u001b[1;33m\u001b[0m\u001b[0m\n\u001b[0;32m    882\u001b[0m     \u001b[1;32mdef\u001b[0m \u001b[0mclose\u001b[0m\u001b[1;33m(\u001b[0m\u001b[0mself\u001b[0m\u001b[1;33m)\u001b[0m\u001b[1;33m:\u001b[0m\u001b[1;33m\u001b[0m\u001b[0m\n",
      "\u001b[1;32m~\\Anaconda3b\\lib\\site-packages\\pandas\\io\\parsers.py\u001b[0m in \u001b[0;36m_make_engine\u001b[1;34m(self, engine)\u001b[0m\n\u001b[0;32m   1112\u001b[0m     \u001b[1;32mdef\u001b[0m \u001b[0m_make_engine\u001b[0m\u001b[1;33m(\u001b[0m\u001b[0mself\u001b[0m\u001b[1;33m,\u001b[0m \u001b[0mengine\u001b[0m\u001b[1;33m=\u001b[0m\u001b[1;34m\"c\"\u001b[0m\u001b[1;33m)\u001b[0m\u001b[1;33m:\u001b[0m\u001b[1;33m\u001b[0m\u001b[0m\n\u001b[0;32m   1113\u001b[0m         \u001b[1;32mif\u001b[0m \u001b[0mengine\u001b[0m \u001b[1;33m==\u001b[0m \u001b[1;34m\"c\"\u001b[0m\u001b[1;33m:\u001b[0m\u001b[1;33m\u001b[0m\u001b[0m\n\u001b[1;32m-> 1114\u001b[1;33m             \u001b[0mself\u001b[0m\u001b[1;33m.\u001b[0m\u001b[0m_engine\u001b[0m \u001b[1;33m=\u001b[0m \u001b[0mCParserWrapper\u001b[0m\u001b[1;33m(\u001b[0m\u001b[0mself\u001b[0m\u001b[1;33m.\u001b[0m\u001b[0mf\u001b[0m\u001b[1;33m,\u001b[0m \u001b[1;33m**\u001b[0m\u001b[0mself\u001b[0m\u001b[1;33m.\u001b[0m\u001b[0moptions\u001b[0m\u001b[1;33m)\u001b[0m\u001b[1;33m\u001b[0m\u001b[0m\n\u001b[0m\u001b[0;32m   1115\u001b[0m         \u001b[1;32melse\u001b[0m\u001b[1;33m:\u001b[0m\u001b[1;33m\u001b[0m\u001b[0m\n\u001b[0;32m   1116\u001b[0m             \u001b[1;32mif\u001b[0m \u001b[0mengine\u001b[0m \u001b[1;33m==\u001b[0m \u001b[1;34m\"python\"\u001b[0m\u001b[1;33m:\u001b[0m\u001b[1;33m\u001b[0m\u001b[0m\n",
      "\u001b[1;32m~\\Anaconda3b\\lib\\site-packages\\pandas\\io\\parsers.py\u001b[0m in \u001b[0;36m__init__\u001b[1;34m(self, src, **kwds)\u001b[0m\n\u001b[0;32m   1889\u001b[0m         \u001b[0mkwds\u001b[0m\u001b[1;33m[\u001b[0m\u001b[1;34m\"usecols\"\u001b[0m\u001b[1;33m]\u001b[0m \u001b[1;33m=\u001b[0m \u001b[0mself\u001b[0m\u001b[1;33m.\u001b[0m\u001b[0musecols\u001b[0m\u001b[1;33m\u001b[0m\u001b[0m\n\u001b[0;32m   1890\u001b[0m \u001b[1;33m\u001b[0m\u001b[0m\n\u001b[1;32m-> 1891\u001b[1;33m         \u001b[0mself\u001b[0m\u001b[1;33m.\u001b[0m\u001b[0m_reader\u001b[0m \u001b[1;33m=\u001b[0m \u001b[0mparsers\u001b[0m\u001b[1;33m.\u001b[0m\u001b[0mTextReader\u001b[0m\u001b[1;33m(\u001b[0m\u001b[0msrc\u001b[0m\u001b[1;33m,\u001b[0m \u001b[1;33m**\u001b[0m\u001b[0mkwds\u001b[0m\u001b[1;33m)\u001b[0m\u001b[1;33m\u001b[0m\u001b[0m\n\u001b[0m\u001b[0;32m   1892\u001b[0m         \u001b[0mself\u001b[0m\u001b[1;33m.\u001b[0m\u001b[0munnamed_cols\u001b[0m \u001b[1;33m=\u001b[0m \u001b[0mself\u001b[0m\u001b[1;33m.\u001b[0m\u001b[0m_reader\u001b[0m\u001b[1;33m.\u001b[0m\u001b[0munnamed_cols\u001b[0m\u001b[1;33m\u001b[0m\u001b[0m\n\u001b[0;32m   1893\u001b[0m \u001b[1;33m\u001b[0m\u001b[0m\n",
      "\u001b[1;32mpandas\\_libs\\parsers.pyx\u001b[0m in \u001b[0;36mpandas._libs.parsers.TextReader.__cinit__\u001b[1;34m()\u001b[0m\n",
      "\u001b[1;32mpandas\\_libs\\parsers.pyx\u001b[0m in \u001b[0;36mpandas._libs.parsers.TextReader._setup_parser_source\u001b[1;34m()\u001b[0m\n",
      "\u001b[1;31mFileNotFoundError\u001b[0m: [Errno 2] File ../Project/202003-capitalbikeshare-tripdata.csv does not exist: '../Project/202003-capitalbikeshare-tripdata.csv'"
     ]
    }
   ],
   "source": [
    "data = pd.read_csv(\"../Project/202003-capitalbikeshare-tripdata.csv\")\n",
    "data"
   ]
  },
  {
   "cell_type": "code",
   "execution_count": 23,
   "metadata": {},
   "outputs": [],
   "source": [
    "cluster_pred = cluster_pred.rename(columns={\"StationName\": \"Start station\"})\n",
    "data_cluster1 = pd.merge(data, cluster_pred, on=['Start station'])\n",
    "cluster_pred = cluster_pred.rename(columns={\"Start station\": \"End station\"})\n",
    "data_cluster = pd.merge(data_cluster1, cluster_pred, on=['End station'])\n",
    "data_cluster = data_cluster.rename(columns={\"cluster_x\": \"Start station cluster\", \"cluster_y\": \"End station cluster\"})\n",
    "cluster_pred = cluster_pred.rename(columns={\"End station\":\"StationName\"})\n",
    "data_cluster['Start date'] = pd.to_datetime(data_cluster['Start date'])\n",
    "data_cluster['End date'] = pd.to_datetime(data_cluster['End date'])\n",
    "data_cluster = data_cluster.drop('End date', axis = 1)\n",
    "data_cluster['Date'] = data_cluster['Start date'].dt.date\n",
    "diff = pd.to_datetime(data_cluster['Start date']) - pd.to_datetime(data_cluster['Date'])\n",
    "data_cluster['Time'] = diff.dt.total_seconds()\n",
    "data_cluster = data_cluster.drop('Start date', axis = 1)\n",
    "data_cluster = data_cluster.drop(['Start station number', 'End station number'], axis = 1)\n",
    "data_cluster['Start station cluster'] = data_cluster['Start station cluster'].astype('category')\n",
    "data_cluster['End station cluster'] = data_cluster['End station cluster'].astype('category')\n",
    "data_cluster['Month'] = pd.to_datetime(data_cluster['Date']).dt.month\n",
    "data_cluster['Weekday'] = pd.to_datetime(data_cluster['Date']).dt.weekday\n",
    "data_cluster['Weekday'] = data_cluster['Weekday'].replace([0, 1, 2, 3, 4, 5, 6], [\"Monday\",\"Tuesday\",\"Wednesday\",\"Thursday\",\"Friday\",\"Saturday\",\"Sunday\"])\n",
    "data_cluster.to_csv(\"final_format_Mar2020.csv\")\n",
    "data = data_cluster[['Duration','Member type','Time','Month','Weekday','Start station cluster','End station cluster']]\n",
    "data.to_csv(\"final_clean_format_Mar2020.csv\")"
   ]
  },
  {
   "cell_type": "code",
   "execution_count": 24,
   "metadata": {},
   "outputs": [
    {
     "data": {
      "text/html": [
       "<div>\n",
       "<style scoped>\n",
       "    .dataframe tbody tr th:only-of-type {\n",
       "        vertical-align: middle;\n",
       "    }\n",
       "\n",
       "    .dataframe tbody tr th {\n",
       "        vertical-align: top;\n",
       "    }\n",
       "\n",
       "    .dataframe thead th {\n",
       "        text-align: right;\n",
       "    }\n",
       "</style>\n",
       "<table border=\"1\" class=\"dataframe\">\n",
       "  <thead>\n",
       "    <tr style=\"text-align: right;\">\n",
       "      <th></th>\n",
       "      <th>Duration</th>\n",
       "      <th>Start station</th>\n",
       "      <th>End station</th>\n",
       "      <th>Bike number</th>\n",
       "      <th>Member type</th>\n",
       "      <th>Start station cluster</th>\n",
       "      <th>End station cluster</th>\n",
       "      <th>Date</th>\n",
       "      <th>Time</th>\n",
       "      <th>Month</th>\n",
       "      <th>Weekday</th>\n",
       "    </tr>\n",
       "  </thead>\n",
       "  <tbody>\n",
       "    <tr>\n",
       "      <th>0</th>\n",
       "      <td>1596</td>\n",
       "      <td>Maine Ave &amp; 9th St SW</td>\n",
       "      <td>New Jersey Ave &amp; R St NW</td>\n",
       "      <td>W24217</td>\n",
       "      <td>Member</td>\n",
       "      <td>8</td>\n",
       "      <td>2</td>\n",
       "      <td>2020-03-01</td>\n",
       "      <td>76.0</td>\n",
       "      <td>3</td>\n",
       "      <td>Sunday</td>\n",
       "    </tr>\n",
       "    <tr>\n",
       "      <th>1</th>\n",
       "      <td>1210</td>\n",
       "      <td>Maine Ave &amp; 9th St SW</td>\n",
       "      <td>New Jersey Ave &amp; R St NW</td>\n",
       "      <td>W23647</td>\n",
       "      <td>Member</td>\n",
       "      <td>8</td>\n",
       "      <td>2</td>\n",
       "      <td>2020-03-07</td>\n",
       "      <td>47882.0</td>\n",
       "      <td>3</td>\n",
       "      <td>Saturday</td>\n",
       "    </tr>\n",
       "    <tr>\n",
       "      <th>2</th>\n",
       "      <td>1106</td>\n",
       "      <td>Maine Ave &amp; 9th St SW</td>\n",
       "      <td>New Jersey Ave &amp; R St NW</td>\n",
       "      <td>W01140</td>\n",
       "      <td>Member</td>\n",
       "      <td>8</td>\n",
       "      <td>2</td>\n",
       "      <td>2020-03-14</td>\n",
       "      <td>48770.0</td>\n",
       "      <td>3</td>\n",
       "      <td>Saturday</td>\n",
       "    </tr>\n",
       "    <tr>\n",
       "      <th>3</th>\n",
       "      <td>2139</td>\n",
       "      <td>Maine Ave &amp; 9th St SW</td>\n",
       "      <td>New Jersey Ave &amp; R St NW</td>\n",
       "      <td>W24173</td>\n",
       "      <td>Member</td>\n",
       "      <td>8</td>\n",
       "      <td>2</td>\n",
       "      <td>2020-03-14</td>\n",
       "      <td>52536.0</td>\n",
       "      <td>3</td>\n",
       "      <td>Saturday</td>\n",
       "    </tr>\n",
       "    <tr>\n",
       "      <th>4</th>\n",
       "      <td>909</td>\n",
       "      <td>18th &amp; L St NW</td>\n",
       "      <td>New Jersey Ave &amp; R St NW</td>\n",
       "      <td>W24131</td>\n",
       "      <td>Member</td>\n",
       "      <td>8</td>\n",
       "      <td>2</td>\n",
       "      <td>2020-03-16</td>\n",
       "      <td>57329.0</td>\n",
       "      <td>3</td>\n",
       "      <td>Monday</td>\n",
       "    </tr>\n",
       "    <tr>\n",
       "      <th>...</th>\n",
       "      <td>...</td>\n",
       "      <td>...</td>\n",
       "      <td>...</td>\n",
       "      <td>...</td>\n",
       "      <td>...</td>\n",
       "      <td>...</td>\n",
       "      <td>...</td>\n",
       "      <td>...</td>\n",
       "      <td>...</td>\n",
       "      <td>...</td>\n",
       "      <td>...</td>\n",
       "    </tr>\n",
       "    <tr>\n",
       "      <th>156959</th>\n",
       "      <td>2447</td>\n",
       "      <td>Largo Town Center Metro</td>\n",
       "      <td>1301 McCormick Dr / Wayne K. Curry Admin Bldg</td>\n",
       "      <td>W23295</td>\n",
       "      <td>Member</td>\n",
       "      <td>7</td>\n",
       "      <td>5</td>\n",
       "      <td>2020-03-22</td>\n",
       "      <td>36896.0</td>\n",
       "      <td>3</td>\n",
       "      <td>Sunday</td>\n",
       "    </tr>\n",
       "    <tr>\n",
       "      <th>156960</th>\n",
       "      <td>2461</td>\n",
       "      <td>1301 McCormick Dr / Wayne K. Curry Admin Bldg</td>\n",
       "      <td>1301 McCormick Dr / Wayne K. Curry Admin Bldg</td>\n",
       "      <td>W24034</td>\n",
       "      <td>Casual</td>\n",
       "      <td>5</td>\n",
       "      <td>5</td>\n",
       "      <td>2020-03-29</td>\n",
       "      <td>46773.0</td>\n",
       "      <td>3</td>\n",
       "      <td>Sunday</td>\n",
       "    </tr>\n",
       "    <tr>\n",
       "      <th>156961</th>\n",
       "      <td>2961</td>\n",
       "      <td>1301 McCormick Dr / Wayne K. Curry Admin Bldg</td>\n",
       "      <td>1301 McCormick Dr / Wayne K. Curry Admin Bldg</td>\n",
       "      <td>W22975</td>\n",
       "      <td>Casual</td>\n",
       "      <td>5</td>\n",
       "      <td>5</td>\n",
       "      <td>2020-03-29</td>\n",
       "      <td>46866.0</td>\n",
       "      <td>3</td>\n",
       "      <td>Sunday</td>\n",
       "    </tr>\n",
       "    <tr>\n",
       "      <th>156962</th>\n",
       "      <td>3870</td>\n",
       "      <td>North Shore &amp; Cameron Crescent Dr/Crescent Apa...</td>\n",
       "      <td>North Shore &amp; Cameron Crescent Dr/Crescent Apa...</td>\n",
       "      <td>W01191</td>\n",
       "      <td>Casual</td>\n",
       "      <td>5</td>\n",
       "      <td>5</td>\n",
       "      <td>2020-03-26</td>\n",
       "      <td>66634.0</td>\n",
       "      <td>3</td>\n",
       "      <td>Thursday</td>\n",
       "    </tr>\n",
       "    <tr>\n",
       "      <th>156963</th>\n",
       "      <td>3860</td>\n",
       "      <td>North Shore &amp; Cameron Crescent Dr/Crescent Apa...</td>\n",
       "      <td>North Shore &amp; Cameron Crescent Dr/Crescent Apa...</td>\n",
       "      <td>W21500</td>\n",
       "      <td>Casual</td>\n",
       "      <td>5</td>\n",
       "      <td>5</td>\n",
       "      <td>2020-03-26</td>\n",
       "      <td>66669.0</td>\n",
       "      <td>3</td>\n",
       "      <td>Thursday</td>\n",
       "    </tr>\n",
       "  </tbody>\n",
       "</table>\n",
       "<p>156964 rows × 11 columns</p>\n",
       "</div>"
      ],
      "text/plain": [
       "        Duration                                      Start station  \\\n",
       "0           1596                              Maine Ave & 9th St SW   \n",
       "1           1210                              Maine Ave & 9th St SW   \n",
       "2           1106                              Maine Ave & 9th St SW   \n",
       "3           2139                              Maine Ave & 9th St SW   \n",
       "4            909                                     18th & L St NW   \n",
       "...          ...                                                ...   \n",
       "156959      2447                            Largo Town Center Metro   \n",
       "156960      2461      1301 McCormick Dr / Wayne K. Curry Admin Bldg   \n",
       "156961      2961      1301 McCormick Dr / Wayne K. Curry Admin Bldg   \n",
       "156962      3870  North Shore & Cameron Crescent Dr/Crescent Apa...   \n",
       "156963      3860  North Shore & Cameron Crescent Dr/Crescent Apa...   \n",
       "\n",
       "                                              End station Bike number  \\\n",
       "0                                New Jersey Ave & R St NW      W24217   \n",
       "1                                New Jersey Ave & R St NW      W23647   \n",
       "2                                New Jersey Ave & R St NW      W01140   \n",
       "3                                New Jersey Ave & R St NW      W24173   \n",
       "4                                New Jersey Ave & R St NW      W24131   \n",
       "...                                                   ...         ...   \n",
       "156959      1301 McCormick Dr / Wayne K. Curry Admin Bldg      W23295   \n",
       "156960      1301 McCormick Dr / Wayne K. Curry Admin Bldg      W24034   \n",
       "156961      1301 McCormick Dr / Wayne K. Curry Admin Bldg      W22975   \n",
       "156962  North Shore & Cameron Crescent Dr/Crescent Apa...      W01191   \n",
       "156963  North Shore & Cameron Crescent Dr/Crescent Apa...      W21500   \n",
       "\n",
       "       Member type Start station cluster End station cluster        Date  \\\n",
       "0           Member                     8                   2  2020-03-01   \n",
       "1           Member                     8                   2  2020-03-07   \n",
       "2           Member                     8                   2  2020-03-14   \n",
       "3           Member                     8                   2  2020-03-14   \n",
       "4           Member                     8                   2  2020-03-16   \n",
       "...            ...                   ...                 ...         ...   \n",
       "156959      Member                     7                   5  2020-03-22   \n",
       "156960      Casual                     5                   5  2020-03-29   \n",
       "156961      Casual                     5                   5  2020-03-29   \n",
       "156962      Casual                     5                   5  2020-03-26   \n",
       "156963      Casual                     5                   5  2020-03-26   \n",
       "\n",
       "           Time  Month   Weekday  \n",
       "0          76.0      3    Sunday  \n",
       "1       47882.0      3  Saturday  \n",
       "2       48770.0      3  Saturday  \n",
       "3       52536.0      3  Saturday  \n",
       "4       57329.0      3    Monday  \n",
       "...         ...    ...       ...  \n",
       "156959  36896.0      3    Sunday  \n",
       "156960  46773.0      3    Sunday  \n",
       "156961  46866.0      3    Sunday  \n",
       "156962  66634.0      3  Thursday  \n",
       "156963  66669.0      3  Thursday  \n",
       "\n",
       "[156964 rows x 11 columns]"
      ]
     },
     "execution_count": 24,
     "metadata": {},
     "output_type": "execute_result"
    }
   ],
   "source": [
    "data_cluster"
   ]
  },
  {
   "cell_type": "code",
   "execution_count": 103,
   "metadata": {},
   "outputs": [],
   "source": [
    "data_cluster = pd.read_csv(\"final_format_Mar2020.csv\", index_col=0)\n",
    "#data = pd.read_csv(\"final_clean_format_Mar2020.csv\", index_col=0)"
   ]
  },
  {
   "cell_type": "markdown",
   "metadata": {},
   "source": [
    "### Rides by the Station"
   ]
  },
  {
   "cell_type": "markdown",
   "metadata": {},
   "source": [
    "See map.ipynb"
   ]
  },
  {
   "cell_type": "code",
   "execution_count": 104,
   "metadata": {},
   "outputs": [
    {
     "ename": "NameError",
     "evalue": "name 'stations' is not defined",
     "output_type": "error",
     "traceback": [
      "\u001b[1;31m---------------------------------------------------------------------------\u001b[0m",
      "\u001b[1;31mNameError\u001b[0m                                 Traceback (most recent call last)",
      "\u001b[1;32m<ipython-input-104-a43552cacead>\u001b[0m in \u001b[0;36m<module>\u001b[1;34m()\u001b[0m\n\u001b[1;32m----> 1\u001b[1;33m start = stations[['ADDRESS','LATITUDE','LONGITUDE']].rename(columns = {\n\u001b[0m\u001b[0;32m      2\u001b[0m     \u001b[1;34m'ADDRESS'\u001b[0m\u001b[1;33m:\u001b[0m\u001b[1;34m'Start station'\u001b[0m\u001b[1;33m,\u001b[0m\u001b[1;33m\u001b[0m\u001b[0m\n\u001b[0;32m      3\u001b[0m     \u001b[1;34m'LATITUDE'\u001b[0m\u001b[1;33m:\u001b[0m \u001b[1;34m'start_latitude'\u001b[0m\u001b[1;33m,\u001b[0m\u001b[1;33m\u001b[0m\u001b[0m\n\u001b[0;32m      4\u001b[0m     'LONGITUDE': 'start_longitude'})\n\u001b[0;32m      5\u001b[0m \u001b[0mdata_cluster_\u001b[0m \u001b[1;33m=\u001b[0m \u001b[0mdata_cluster\u001b[0m\u001b[1;33m.\u001b[0m\u001b[0mmerge\u001b[0m\u001b[1;33m(\u001b[0m\u001b[0mstart\u001b[0m\u001b[1;33m,\u001b[0m \u001b[0mon\u001b[0m\u001b[1;33m=\u001b[0m\u001b[1;34m'Start station'\u001b[0m\u001b[1;33m,\u001b[0m \u001b[0mhow\u001b[0m \u001b[1;33m=\u001b[0m \u001b[1;34m'left'\u001b[0m\u001b[1;33m)\u001b[0m\u001b[1;33m\u001b[0m\u001b[0m\n",
      "\u001b[1;31mNameError\u001b[0m: name 'stations' is not defined"
     ]
    }
   ],
   "source": [
    "start = stations[['ADDRESS','LATITUDE','LONGITUDE']].rename(columns = {\n",
    "    'ADDRESS':'Start station',\n",
    "    'LATITUDE': 'start_latitude',\n",
    "    'LONGITUDE': 'start_longitude'})\n",
    "data_cluster_ = data_cluster.merge(start, on='Start station', how = 'left')\n",
    "end = stations[['ADDRESS','LATITUDE','LONGITUDE']].rename(columns = {\n",
    "    'ADDRESS':'End station',\n",
    "    'LATITUDE': 'end_latitude',\n",
    "    'LONGITUDE': 'end_longitude'})\n",
    "data_cluster_ = data_cluster_.merge(end, on='End station', how = 'left')"
   ]
  },
  {
   "cell_type": "code",
   "execution_count": null,
   "metadata": {},
   "outputs": [],
   "source": [
    "data_cluster_['Start station cluster'] = data_cluster_['Start station cluster'].astype('object')\n",
    "data_cluster_['End station cluster'] = data_cluster_['End station cluster'].astype('object')\n",
    "start = data_cluster_['Start station'].value_counts().index\n",
    "end = data_cluster_['End station'].value_counts().index\n",
    "start_num = pd.DataFrame({'Start station' : start, 'Start Counts' :  data_cluster_['Start station'].value_counts().values})\n",
    "end_num = pd.DataFrame({'End station': end, 'End Counts' :  data_cluster_['End station'].value_counts().values})\n",
    "data_cluster_ = data_cluster_.merge(start_num, on = 'Start station', how = 'left')\n",
    "data_cluster_ = data_cluster_.merge(end_num, on = 'End station', how = 'left')"
   ]
  },
  {
   "cell_type": "code",
   "execution_count": 27,
   "metadata": {},
   "outputs": [],
   "source": [
    "start = pd.DataFrame(data_cluster['Start station'].value_counts()) \n",
    "start['ADDRESS'] = start.index\n",
    "start = pd.merge(start, stations[['ADDRESS','LATITUDE','LONGITUDE']], on = 'ADDRESS')\n",
    "end = pd.DataFrame(data_cluster['End station'].value_counts())\n",
    "end['ADDRESS'] = end.index\n",
    "end = pd.merge(end, stations[['ADDRESS','LATITUDE','LONGITUDE']], on = 'ADDRESS')\n",
    "start = start.rename(columns={'Start station': 'RIDECOUNT', 'ADDRESS':'StationName'})\n",
    "end = end.rename(columns={'End station': 'RIDECOUNT', 'ADDRESS':'StationName'})\n",
    "start = pd.merge(start, station_cluster[['StationName','cluster']], on = 'StationName')\n",
    "end = pd.merge(end, station_cluster[['StationName','cluster']], on = 'StationName')\n",
    "start['cluster'] = start['cluster'].astype(object)\n",
    "end['cluster'] = end['cluster'].astype(object)\n"
   ]
  },
  {
   "cell_type": "code",
   "execution_count": 105,
   "metadata": {},
   "outputs": [
    {
     "ename": "ModuleNotFoundError",
     "evalue": "No module named 'plotly'",
     "output_type": "error",
     "traceback": [
      "\u001b[1;31m---------------------------------------------------------------------------\u001b[0m",
      "\u001b[1;31mModuleNotFoundError\u001b[0m                       Traceback (most recent call last)",
      "\u001b[1;32m<ipython-input-105-348bcffd81fa>\u001b[0m in \u001b[0;36m<module>\u001b[1;34m()\u001b[0m\n\u001b[1;32m----> 1\u001b[1;33m \u001b[1;32mimport\u001b[0m \u001b[0mplotly\u001b[0m\u001b[1;33m.\u001b[0m\u001b[0mexpress\u001b[0m \u001b[1;32mas\u001b[0m \u001b[0mpx\u001b[0m\u001b[1;33m\u001b[0m\u001b[0m\n\u001b[0m\u001b[0;32m      2\u001b[0m \u001b[1;31m#px.set_mapbox_access_token(open(\".mapbox_token.txt\").read())\u001b[0m\u001b[1;33m\u001b[0m\u001b[1;33m\u001b[0m\u001b[0m\n\u001b[0;32m      3\u001b[0m \u001b[1;33m\u001b[0m\u001b[0m\n\u001b[0;32m      4\u001b[0m fig = px.scatter_mapbox(start, \n\u001b[0;32m      5\u001b[0m                         \u001b[0mlat\u001b[0m\u001b[1;33m=\u001b[0m\u001b[1;34m\"LATITUDE\"\u001b[0m\u001b[1;33m,\u001b[0m \u001b[0mlon\u001b[0m\u001b[1;33m=\u001b[0m\u001b[1;34m\"LONGITUDE\"\u001b[0m\u001b[1;33m,\u001b[0m\u001b[1;33m\u001b[0m\u001b[0m\n",
      "\u001b[1;31mModuleNotFoundError\u001b[0m: No module named 'plotly'"
     ]
    }
   ],
   "source": [
    "import plotly.express as px\n",
    "#px.set_mapbox_access_token(open(\".mapbox_token.txt\").read())\n",
    "\n",
    "fig = px.scatter_mapbox(start, \n",
    "                        lat=\"LATITUDE\", lon=\"LONGITUDE\", \n",
    "                        color=\"cluster\", size=\"RIDECOUNT\",\n",
    "                        opacity=0.1,\n",
    "                        size_max=15, zoom=10)\n",
    "\n",
    "\n",
    "fig.show()"
   ]
  },
  {
   "cell_type": "code",
   "execution_count": 106,
   "metadata": {},
   "outputs": [
    {
     "ename": "ModuleNotFoundError",
     "evalue": "No module named 'plotly'",
     "output_type": "error",
     "traceback": [
      "\u001b[1;31m---------------------------------------------------------------------------\u001b[0m",
      "\u001b[1;31mModuleNotFoundError\u001b[0m                       Traceback (most recent call last)",
      "\u001b[1;32m<ipython-input-106-8620107f2b28>\u001b[0m in \u001b[0;36m<module>\u001b[1;34m()\u001b[0m\n\u001b[1;32m----> 1\u001b[1;33m \u001b[1;32mimport\u001b[0m \u001b[0mplotly\u001b[0m\u001b[1;33m.\u001b[0m\u001b[0mexpress\u001b[0m \u001b[1;32mas\u001b[0m \u001b[0mpx\u001b[0m\u001b[1;33m\u001b[0m\u001b[0m\n\u001b[0m\u001b[0;32m      2\u001b[0m \u001b[1;31m#px.set_mapbox_access_token(open(\".mapbox_token.txt\").read())\u001b[0m\u001b[1;33m\u001b[0m\u001b[1;33m\u001b[0m\u001b[0m\n\u001b[0;32m      3\u001b[0m \u001b[1;33m\u001b[0m\u001b[0m\n\u001b[0;32m      4\u001b[0m fig = px.scatter_mapbox(data_cluster_, \n\u001b[0;32m      5\u001b[0m                         \u001b[0mlat\u001b[0m\u001b[1;33m=\u001b[0m\u001b[1;34m\"start_latitude\"\u001b[0m\u001b[1;33m,\u001b[0m \u001b[0mlon\u001b[0m\u001b[1;33m=\u001b[0m\u001b[1;34m\"start_longitude\"\u001b[0m\u001b[1;33m,\u001b[0m\u001b[1;33m\u001b[0m\u001b[0m\n",
      "\u001b[1;31mModuleNotFoundError\u001b[0m: No module named 'plotly'"
     ]
    }
   ],
   "source": [
    "import plotly.express as px\n",
    "#px.set_mapbox_access_token(open(\".mapbox_token.txt\").read())\n",
    "\n",
    "fig = px.scatter_mapbox(data_cluster_, \n",
    "                        lat=\"start_latitude\", lon=\"start_longitude\", \n",
    "                        color=\"Start station cluster\", size=\"Start Counts\",\n",
    "                        opacity=0.1,\n",
    "                        size_max=15, zoom=10)\n",
    "\n",
    "\n",
    "fig.show()"
   ]
  },
  {
   "cell_type": "code",
   "execution_count": 107,
   "metadata": {},
   "outputs": [
    {
     "ename": "ModuleNotFoundError",
     "evalue": "No module named 'plotly'",
     "output_type": "error",
     "traceback": [
      "\u001b[1;31m---------------------------------------------------------------------------\u001b[0m",
      "\u001b[1;31mModuleNotFoundError\u001b[0m                       Traceback (most recent call last)",
      "\u001b[1;32m<ipython-input-107-51f96bc3a4e9>\u001b[0m in \u001b[0;36m<module>\u001b[1;34m()\u001b[0m\n\u001b[1;32m----> 1\u001b[1;33m \u001b[1;32mimport\u001b[0m \u001b[0mplotly\u001b[0m\u001b[1;33m.\u001b[0m\u001b[0mexpress\u001b[0m \u001b[1;32mas\u001b[0m \u001b[0mpx\u001b[0m\u001b[1;33m\u001b[0m\u001b[0m\n\u001b[0m\u001b[0;32m      2\u001b[0m \u001b[1;31m#px.set_mapbox_access_token(open(\".mapbox_token.txt\").read())\u001b[0m\u001b[1;33m\u001b[0m\u001b[1;33m\u001b[0m\u001b[0m\n\u001b[0;32m      3\u001b[0m \u001b[1;33m\u001b[0m\u001b[0m\n\u001b[0;32m      4\u001b[0m fig = px.scatter_mapbox(data_cluster_, \n\u001b[0;32m      5\u001b[0m                         \u001b[0mlat\u001b[0m\u001b[1;33m=\u001b[0m\u001b[1;34m\"end_latitude\"\u001b[0m\u001b[1;33m,\u001b[0m \u001b[0mlon\u001b[0m\u001b[1;33m=\u001b[0m\u001b[1;34m\"end_longitude\"\u001b[0m\u001b[1;33m,\u001b[0m\u001b[1;33m\u001b[0m\u001b[0m\n",
      "\u001b[1;31mModuleNotFoundError\u001b[0m: No module named 'plotly'"
     ]
    }
   ],
   "source": [
    "import plotly.express as px\n",
    "#px.set_mapbox_access_token(open(\".mapbox_token.txt\").read())\n",
    "\n",
    "fig = px.scatter_mapbox(data_cluster_, \n",
    "                        lat=\"end_latitude\", lon=\"end_longitude\", \n",
    "                        color=\"End station cluster\", size=\"End Counts\",\n",
    "                        opacity=0.1,\n",
    "                        size_max=15, zoom=10)\n",
    "\n",
    "\n",
    "fig.show()"
   ]
  }
 ],
 "metadata": {
  "kernelspec": {
   "display_name": "Python 3",
   "language": "python",
   "name": "python3"
  },
  "language_info": {
   "codemirror_mode": {
    "name": "ipython",
    "version": 3
   },
   "file_extension": ".py",
   "mimetype": "text/x-python",
   "name": "python",
   "nbconvert_exporter": "python",
   "pygments_lexer": "ipython3",
   "version": "3.7.0"
  }
 },
 "nbformat": 4,
 "nbformat_minor": 4
}
