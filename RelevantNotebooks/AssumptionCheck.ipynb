{
 "cells": [
  {
   "cell_type": "code",
   "execution_count": 1,
   "metadata": {},
   "outputs": [],
   "source": [
    "import pandas as pd\n",
    "from pandasql import sqldf\n",
    "from sklearn.preprocessing import OneHotEncoder\n",
    "import matplotlib.pyplot as plt\n",
    "from sklearn.ensemble import RandomForestRegressor\n",
    "import numpy as np\n",
    "from sklearn.metrics import mean_squared_error\n",
    "from sklearn.metrics import mean_absolute_error\n",
    "from sklearn.metrics import mean_poisson_deviance\n",
    "from sklearn.dummy import DummyRegressor\n",
    "from sklearn.linear_model import Ridge\n",
    "from sklearn.experimental import enable_hist_gradient_boosting  \n",
    "from sklearn.ensemble import HistGradientBoostingRegressor"
   ]
  },
  {
   "cell_type": "code",
   "execution_count": 2,
   "metadata": {},
   "outputs": [],
   "source": [
    "import warnings\n",
    "warnings.filterwarnings('ignore')"
   ]
  },
  {
   "cell_type": "markdown",
   "metadata": {},
   "source": [
    "### Data Preprocessing: Training Data\n",
    "\n",
    "1. Import full dataset of the rides data of 2019 as the traing set. (Refer to \"DataPipeline.ipynb\" for details)\n",
    "1. Filter out all samples without trips.\n",
    "1. Filter out samples with average duration longer than 120 min (7200 sec) or less than 2 min (120 sec)."
   ]
  },
  {
   "cell_type": "code",
   "execution_count": 3,
   "metadata": {},
   "outputs": [],
   "source": [
    "all_data = pd.read_csv(\"all_trips_2019.csv\")"
   ]
  },
  {
   "cell_type": "code",
   "execution_count": 4,
   "metadata": {},
   "outputs": [],
   "source": [
    "# define a function that takes the entire dataset and returns X variables and Y variables for model training\n",
    "def preprocess(all_data):\n",
    "    \"\"\"\n",
    "    Function takes full dataset and returns:\n",
    "    \n",
    "    * data: a dataframe with non-zero trip entries and average duration\n",
    "            betwenn 120 sec and 7200 sec.\n",
    "            \n",
    "    * X_enc: X varibles with one-hot-encoded categorical variables:'Start_cluster','End_cluster','Day','Weekday'\n",
    "             and continuous variables:'AVG_Duration'.\n",
    "             \n",
    "    * y: predicting varibel 'trips'.\n",
    "    \"\"\"\n",
    "    # filter out non-zero trip entries\n",
    "    data = all_data[all_data['trips']!= 0]\n",
    "    \n",
    "    # filter out samples with average duration longer than 120 min (7200 sec) or less than 2 min (120 sec)\n",
    "    data = data.loc[(data['AVG_Duration']<= 7200) & (data['AVG_Duration']>=120)]\n",
    "    \n",
    "    # reset index\n",
    "    data = data.reset_index()\n",
    "    \n",
    "    # format date and days\n",
    "    data_dup = data\n",
    "    data_dup['Date'] = pd.to_datetime(data_dup['Date'])\n",
    "    data_dup['Day'] = data_dup['Date'].dt.day\n",
    "    \n",
    "    # One Hot encoding categorical valriables and generate X and Y\n",
    "    X = data_dup[['Start_cluster','End_cluster','Day','Weekday']]\n",
    "    y = data_dup['trips']\n",
    "    enc = OneHotEncoder(handle_unknown='ignore')\n",
    "    X_enc = pd.DataFrame(enc.fit_transform(X).toarray())\n",
    "    X_enc['AVG_Duration'] = data_dup['AVG_Duration']\n",
    "    \n",
    "    \n",
    "    return data, X_enc, y"
   ]
  },
  {
   "cell_type": "code",
   "execution_count": 5,
   "metadata": {},
   "outputs": [],
   "source": [
    "data2019, X_enc2019, y2019 = preprocess(all_data= all_data)"
   ]
  },
  {
   "cell_type": "code",
   "execution_count": 6,
   "metadata": {},
   "outputs": [
    {
     "data": {
      "text/plain": [
       "1.357698276009072"
      ]
     },
     "execution_count": 6,
     "metadata": {},
     "output_type": "execute_result"
    }
   ],
   "source": [
    "np.mean(data2019['trips'])"
   ]
  },
  {
   "cell_type": "code",
   "execution_count": 7,
   "metadata": {},
   "outputs": [
    {
     "data": {
      "image/png": "[encoded data removed]",
      "text/plain": [
       "<Figure size 432x288 with 1 Axes>"
      ]
     },
     "metadata": {
      "needs_background": "light"
     },
     "output_type": "display_data"
    }
   ],
   "source": [
    "data2019['trips'].hist(bins = 30, log = True)\n",
    "plt.xlabel('Number of Trips')\n",
    "plt.ylabel('Frequency')\n",
    "plt.title('Freqency Plot of Number of Trips (Trips of 2019)')\n",
    "plt.show()"
   ]
  },
  {
   "cell_type": "code",
   "execution_count": 8,
   "metadata": {
    "scrolled": false
   },
   "outputs": [
    {
     "data": {
      "image/png": "[encoded data removed]",
      "text/plain": [
       "<Figure size 432x288 with 1 Axes>"
      ]
     },
     "metadata": {
      "needs_background": "light"
     },
     "output_type": "display_data"
    }
   ],
   "source": [
    "data2019['AVG_Duration'].hist(bins = 30, log = True)\n",
    "plt.xlabel('Average Trip Duriation (Sec)')\n",
    "plt.ylabel('Frequency')\n",
    "plt.title('Freqency Plot of Average Trip Duration (Trips of 2019)')\n",
    "plt.show()"
   ]
  },
  {
   "cell_type": "markdown",
   "metadata": {},
   "source": [
    "## Random Forest Regressor"
   ]
  },
  {
   "cell_type": "code",
   "execution_count": 9,
   "metadata": {
    "scrolled": true
   },
   "outputs": [
    {
     "data": {
      "text/plain": [
       "RandomForestRegressor(n_jobs=-1)"
      ]
     },
     "execution_count": 9,
     "metadata": {},
     "output_type": "execute_result"
    }
   ],
   "source": [
    "regRF = RandomForestRegressor(n_jobs=-1)\n",
    "regRF.fit(X_enc2019, y2019)"
   ]
  },
  {
   "cell_type": "code",
   "execution_count": 10,
   "metadata": {},
   "outputs": [
    {
     "data": {
      "text/plain": [
       "0.843295421719707"
      ]
     },
     "execution_count": 10,
     "metadata": {},
     "output_type": "execute_result"
    }
   ],
   "source": [
    "regRF.score(X_enc2019,y2019)"
   ]
  },
  {
   "cell_type": "code",
   "execution_count": 11,
   "metadata": {},
   "outputs": [],
   "source": [
    "y2019_pred = regRF.predict(X_enc2019)"
   ]
  },
  {
   "cell_type": "code",
   "execution_count": 12,
   "metadata": {},
   "outputs": [
    {
     "name": "stdout",
     "output_type": "stream",
     "text": [
      "MSE for training data is 0.1097937912513589\n",
      "MAE for training data is 0.18367617852872065\n",
      "mean Poisson deviance for training data is 0.04626571825514716\n"
     ]
    }
   ],
   "source": [
    "print(\"MSE for training data is\",mean_squared_error(y2019,y2019_pred))\n",
    "print(\"MAE for training data is\", mean_absolute_error(y2019,y2019_pred))\n",
    "mask = y2019_pred > 0\n",
    "print(\"mean Poisson deviance for training data is\",\n",
    "          mean_poisson_deviance(y2019[mask],\n",
    "                                y2019_pred[mask],\n",
    "                                ))"
   ]
  },
  {
   "cell_type": "markdown",
   "metadata": {},
   "source": [
    "### Test data: 2020 Jan, Feb, Mar"
   ]
  },
  {
   "cell_type": "code",
   "execution_count": 13,
   "metadata": {},
   "outputs": [],
   "source": [
    "all_data_2020 = pd.read_csv(\"all_trips_2020.csv\")"
   ]
  },
  {
   "cell_type": "code",
   "execution_count": 14,
   "metadata": {},
   "outputs": [],
   "source": [
    "data2020, X_enc2020, y2020 = preprocess(all_data_2020)"
   ]
  },
  {
   "cell_type": "code",
   "execution_count": 15,
   "metadata": {},
   "outputs": [
    {
     "data": {
      "text/html": [
       "<div>\n",
       "<style scoped>\n",
       "    .dataframe tbody tr th:only-of-type {\n",
       "        vertical-align: middle;\n",
       "    }\n",
       "\n",
       "    .dataframe tbody tr th {\n",
       "        vertical-align: top;\n",
       "    }\n",
       "\n",
       "    .dataframe thead th {\n",
       "        text-align: right;\n",
       "    }\n",
       "</style>\n",
       "<table border=\"1\" class=\"dataframe\">\n",
       "  <thead>\n",
       "    <tr style=\"text-align: right;\">\n",
       "      <th></th>\n",
       "      <th>index</th>\n",
       "      <th>TRIP_KEY</th>\n",
       "      <th>Start_ids</th>\n",
       "      <th>End_ids</th>\n",
       "      <th>Start_station</th>\n",
       "      <th>Start_cluster</th>\n",
       "      <th>End_station</th>\n",
       "      <th>End_cluster</th>\n",
       "      <th>Date</th>\n",
       "      <th>AVG_Duration</th>\n",
       "      <th>Month</th>\n",
       "      <th>Weekday</th>\n",
       "      <th>trips</th>\n",
       "      <th>Day</th>\n",
       "    </tr>\n",
       "  </thead>\n",
       "  <tbody>\n",
       "    <tr>\n",
       "      <th>0</th>\n",
       "      <td>262</td>\n",
       "      <td>262</td>\n",
       "      <td>31253</td>\n",
       "      <td>31101</td>\n",
       "      <td>19th &amp; K St NW</td>\n",
       "      <td>8</td>\n",
       "      <td>14th &amp; V St NW</td>\n",
       "      <td>2</td>\n",
       "      <td>2020-01-01</td>\n",
       "      <td>569.0</td>\n",
       "      <td>1</td>\n",
       "      <td>Wednesday</td>\n",
       "      <td>1.0</td>\n",
       "      <td>1</td>\n",
       "    </tr>\n",
       "    <tr>\n",
       "      <th>1</th>\n",
       "      <td>293</td>\n",
       "      <td>293</td>\n",
       "      <td>31253</td>\n",
       "      <td>31110</td>\n",
       "      <td>19th &amp; K St NW</td>\n",
       "      <td>8</td>\n",
       "      <td>20th St &amp; Florida Ave NW</td>\n",
       "      <td>2</td>\n",
       "      <td>2020-01-01</td>\n",
       "      <td>449.0</td>\n",
       "      <td>1</td>\n",
       "      <td>Wednesday</td>\n",
       "      <td>1.0</td>\n",
       "      <td>1</td>\n",
       "    </tr>\n",
       "    <tr>\n",
       "      <th>2</th>\n",
       "      <td>299</td>\n",
       "      <td>299</td>\n",
       "      <td>31253</td>\n",
       "      <td>31212</td>\n",
       "      <td>19th &amp; K St NW</td>\n",
       "      <td>8</td>\n",
       "      <td>New Hampshire Ave &amp; Ward Pl NW</td>\n",
       "      <td>0</td>\n",
       "      <td>2020-01-01</td>\n",
       "      <td>233.0</td>\n",
       "      <td>1</td>\n",
       "      <td>Wednesday</td>\n",
       "      <td>1.0</td>\n",
       "      <td>1</td>\n",
       "    </tr>\n",
       "    <tr>\n",
       "      <th>3</th>\n",
       "      <td>501</td>\n",
       "      <td>501</td>\n",
       "      <td>31253</td>\n",
       "      <td>31648</td>\n",
       "      <td>19th &amp; K St NW</td>\n",
       "      <td>8</td>\n",
       "      <td>Potomac Ave &amp; Half St SW</td>\n",
       "      <td>1</td>\n",
       "      <td>2020-01-01</td>\n",
       "      <td>1301.0</td>\n",
       "      <td>1</td>\n",
       "      <td>Wednesday</td>\n",
       "      <td>1.0</td>\n",
       "      <td>1</td>\n",
       "    </tr>\n",
       "    <tr>\n",
       "      <th>4</th>\n",
       "      <td>649</td>\n",
       "      <td>649</td>\n",
       "      <td>31254</td>\n",
       "      <td>31509</td>\n",
       "      <td>15th &amp; K St NW</td>\n",
       "      <td>8</td>\n",
       "      <td>New Jersey Ave &amp; R St NW</td>\n",
       "      <td>2</td>\n",
       "      <td>2020-01-01</td>\n",
       "      <td>468.0</td>\n",
       "      <td>1</td>\n",
       "      <td>Wednesday</td>\n",
       "      <td>1.0</td>\n",
       "      <td>1</td>\n",
       "    </tr>\n",
       "  </tbody>\n",
       "</table>\n",
       "</div>"
      ],
      "text/plain": [
       "   index  TRIP_KEY  Start_ids  End_ids   Start_station  Start_cluster  \\\n",
       "0    262       262      31253    31101  19th & K St NW              8   \n",
       "1    293       293      31253    31110  19th & K St NW              8   \n",
       "2    299       299      31253    31212  19th & K St NW              8   \n",
       "3    501       501      31253    31648  19th & K St NW              8   \n",
       "4    649       649      31254    31509  15th & K St NW              8   \n",
       "\n",
       "                      End_station  End_cluster       Date  AVG_Duration  \\\n",
       "0                  14th & V St NW            2 2020-01-01         569.0   \n",
       "1        20th St & Florida Ave NW            2 2020-01-01         449.0   \n",
       "2  New Hampshire Ave & Ward Pl NW            0 2020-01-01         233.0   \n",
       "3        Potomac Ave & Half St SW            1 2020-01-01        1301.0   \n",
       "4        New Jersey Ave & R St NW            2 2020-01-01         468.0   \n",
       "\n",
       "   Month    Weekday  trips  Day  \n",
       "0      1  Wednesday    1.0    1  \n",
       "1      1  Wednesday    1.0    1  \n",
       "2      1  Wednesday    1.0    1  \n",
       "3      1  Wednesday    1.0    1  \n",
       "4      1  Wednesday    1.0    1  "
      ]
     },
     "execution_count": 15,
     "metadata": {},
     "output_type": "execute_result"
    }
   ],
   "source": [
    "data2020.head(5)"
   ]
  },
  {
   "cell_type": "code",
   "execution_count": 16,
   "metadata": {},
   "outputs": [],
   "source": [
    "y2020_pred = regRF.predict(X_enc2020)"
   ]
  },
  {
   "cell_type": "code",
   "execution_count": 17,
   "metadata": {},
   "outputs": [
    {
     "name": "stdout",
     "output_type": "stream",
     "text": [
      "MSE for training data is 0.4157339446728014\n",
      "MAE for training data is 0.3939229905016677\n",
      "mean Poisson deviance for training data is 0.22893610265817338\n"
     ]
    }
   ],
   "source": [
    "print(\"MSE for training data is\",mean_squared_error(y2020,y2020_pred))\n",
    "print(\"MAE for training data is\", mean_absolute_error(y2020,y2020_pred))\n",
    "mask = y2020_pred > 0\n",
    "print(\"mean Poisson deviance for training data is\",\n",
    "          mean_poisson_deviance(y2020[mask],\n",
    "                                y2020_pred[mask],\n",
    "                                ))"
   ]
  },
  {
   "cell_type": "markdown",
   "metadata": {},
   "source": [
    "## Dummy Regressor"
   ]
  },
  {
   "cell_type": "code",
   "execution_count": 26,
   "metadata": {},
   "outputs": [
    {
     "data": {
      "text/plain": [
       "DummyRegressor()"
      ]
     },
     "execution_count": 26,
     "metadata": {},
     "output_type": "execute_result"
    }
   ],
   "source": [
    "dummy_regr = DummyRegressor(strategy=\"mean\")\n",
    "dummy_regr.fit(X_enc2019, y2019)"
   ]
  },
  {
   "cell_type": "code",
   "execution_count": 27,
   "metadata": {},
   "outputs": [
    {
     "name": "stdout",
     "output_type": "stream",
     "text": [
      "MSE for training data is 0.7006418858737735\n",
      "MAE for training data is 0.5469533151249336\n",
      "mean Poisson deviance for training data is 0.3497100673386463\n"
     ]
    }
   ],
   "source": [
    "y2019_pred_Dummy = dummy_regr.predict(X_enc2019)\n",
    "print(\"MSE for training data is\",mean_squared_error(y2019,y2019_pred_Dummy))\n",
    "print(\"MAE for training data is\", mean_absolute_error(y2019,y2019_pred_Dummy))\n",
    "mask = y2019_pred_Dummy > 0\n",
    "print(\"mean Poisson deviance for training data is\",\n",
    "          mean_poisson_deviance(y2019[mask],\n",
    "                                y2019_pred_Dummy[mask],\n",
    "                                ))"
   ]
  },
  {
   "cell_type": "markdown",
   "metadata": {},
   "source": [
    "### Test Data: 2020 Jan, Feb, Mar"
   ]
  },
  {
   "cell_type": "code",
   "execution_count": 28,
   "metadata": {},
   "outputs": [
    {
     "name": "stdout",
     "output_type": "stream",
     "text": [
      "MSE for training data is 0.35945866122507547\n",
      "MAE for training data is 0.462041607252867\n",
      "mean Poisson deviance for training data is 0.21490752303381103\n"
     ]
    }
   ],
   "source": [
    "y2020_pred_Dummy = dummy_regr.predict(X_enc2020)\n",
    "print(\"MSE for training data is\",mean_squared_error(y2020,y2020_pred_Dummy))\n",
    "print(\"MAE for training data is\", mean_absolute_error(y2020,y2020_pred_Dummy))\n",
    "mask = y2020_pred_Dummy > 0\n",
    "print(\"mean Poisson deviance for training data is\",\n",
    "          mean_poisson_deviance(y2020[mask],\n",
    "                                y2020_pred_Dummy[mask],\n",
    "                                ))"
   ]
  },
  {
   "cell_type": "markdown",
   "metadata": {},
   "source": [
    "## Ridge Regression"
   ]
  },
  {
   "cell_type": "code",
   "execution_count": 31,
   "metadata": {},
   "outputs": [
    {
     "data": {
      "text/plain": [
       "Ridge(alpha=1e-06)"
      ]
     },
     "execution_count": 31,
     "metadata": {},
     "output_type": "execute_result"
    }
   ],
   "source": [
    "ridge_regr = Ridge(alpha=1e-6)\n",
    "ridge_regr.fit(X_enc2019,y2019)"
   ]
  },
  {
   "cell_type": "code",
   "execution_count": 32,
   "metadata": {},
   "outputs": [
    {
     "name": "stdout",
     "output_type": "stream",
     "text": [
      "MSE for training data is 0.6538222524170395\n",
      "MAE for training data is 0.5114868427726158\n",
      "mean Poisson deviance for training data is 0.32098612011480815\n"
     ]
    }
   ],
   "source": [
    "y2019_pred_ridge = ridge_regr.predict(X_enc2019)\n",
    "print(\"MSE for training data is\",mean_squared_error(y2019,y2019_pred_ridge))\n",
    "print(\"MAE for training data is\", mean_absolute_error(y2019,y2019_pred_ridge))\n",
    "mask = y2019_pred_ridge > 0\n",
    "print(\"mean Poisson deviance for training data is\",\n",
    "          mean_poisson_deviance(y2019[mask],\n",
    "                                y2019_pred_ridge[mask],\n",
    "                                ))"
   ]
  },
  {
   "cell_type": "markdown",
   "metadata": {},
   "source": [
    "### Test Data: 2020 Jan, Feb, Mar"
   ]
  },
  {
   "cell_type": "code",
   "execution_count": 33,
   "metadata": {},
   "outputs": [
    {
     "name": "stdout",
     "output_type": "stream",
     "text": [
      "MSE for training data is 0.35568798759104187\n",
      "MAE for training data is 0.42697079293224177\n",
      "mean Poisson deviance for training data is 0.21160779811151714\n"
     ]
    }
   ],
   "source": [
    "y2020_pred_ridge = ridge_regr.predict(X_enc2020)\n",
    "print(\"MSE for training data is\",mean_squared_error(y2020,y2020_pred_ridge))\n",
    "print(\"MAE for training data is\", mean_absolute_error(y2020,y2020_pred_ridge))\n",
    "mask = y2020_pred_ridge > 0\n",
    "print(\"mean Poisson deviance for training data is\",\n",
    "          mean_poisson_deviance(y2020[mask],\n",
    "                                y2020_pred_ridge[mask],\n",
    "                                ))"
   ]
  },
  {
   "cell_type": "markdown",
   "metadata": {},
   "source": [
    "## Poisson Regression"
   ]
  },
  {
   "cell_type": "code",
   "execution_count": 36,
   "metadata": {},
   "outputs": [
    {
     "name": "stdout",
     "output_type": "stream",
     "text": [
      "MSE for training data is 0.7006418858737735\n",
      "MAE for training data is 0.546953315124934\n",
      "mean Poisson deviance for training data is 0.3497100673386464\n",
      "MSE for training data is 0.3594586612250757\n",
      "MAE for training data is 0.4620416072528676\n",
      "mean Poisson deviance for training data is 0.21490752303381122\n",
      "MSE for training data is 0.35015705630400673\n",
      "MAE for training data is 0.4596109832777867\n",
      "mean Poisson deviance for training data is 0.21115793908745029\n",
      "MSE for training data is 0.3849499210800921\n",
      "MAE for training data is 0.46870278754211814\n",
      "mean Poisson deviance for training data is 0.2251833431246413\n"
     ]
    }
   ],
   "source": [
    "from sklearn.linear_model import PoissonRegressor\n",
    "\n",
    "poisson_regr = PoissonRegressor(alpha=1e-6, max_iter=100)\n",
    "poisson_regr.fit(X_enc2019,y2019)\n",
    "\n",
    "y2019_pred_poisson = poisson_regr.predict(X_enc2019)\n",
    "print(\"MSE for training data is\",mean_squared_error(y2019,y2019_pred_poisson))\n",
    "print(\"MAE for training data is\", mean_absolute_error(y2019,y2019_pred_poisson))\n",
    "mask = y2019_pred_poisson > 0\n",
    "print(\"mean Poisson deviance for training data is\",\n",
    "          mean_poisson_deviance(y2019[mask],\n",
    "                                y2019_pred_poisson[mask],\n",
    "                                ))\n",
    "\n",
    "y2020_pred_poisson =poisson_regr.predict(X_enc2020)\n",
    "print(\"MSE for training data is\",mean_squared_error(y2020,y2020_pred_poisson))\n",
    "print(\"MAE for training data is\", mean_absolute_error(y2020,y2020_pred_poisson))\n",
    "mask = y2020_pred_poisson > 0\n",
    "print(\"mean Poisson deviance for training data is\",\n",
    "          mean_poisson_deviance(y2020[mask],\n",
    "                                y2020_pred_poisson[mask],\n",
    "                                ))"
   ]
  },
  {
   "cell_type": "markdown",
   "metadata": {},
   "source": [
    "## Histogram-based Gradient Boosting Regression Tree"
   ]
  },
  {
   "cell_type": "code",
   "execution_count": 37,
   "metadata": {},
   "outputs": [
    {
     "data": {
      "text/plain": [
       "HistGradientBoostingRegressor(max_leaf_nodes=128)"
      ]
     },
     "execution_count": 37,
     "metadata": {},
     "output_type": "execute_result"
    }
   ],
   "source": [
    "est = HistGradientBoostingRegressor(loss=\"least_squares\",max_leaf_nodes=128)\n",
    "est.fit(X_enc2019,y2019)"
   ]
  },
  {
   "cell_type": "code",
   "execution_count": 38,
   "metadata": {},
   "outputs": [
    {
     "name": "stdout",
     "output_type": "stream",
     "text": [
      "MSE for training data is 0.6069268349179646\n",
      "MAE for training data is 0.4926516668945993\n",
      "mean Poisson deviance for training data is 0.2940352466489921\n"
     ]
    }
   ],
   "source": [
    "y2019_pred_est = est.predict(X_enc2019)\n",
    "print(\"MSE for training data is\",mean_squared_error(y2019,y2019_pred_est))\n",
    "print(\"MAE for training data is\", mean_absolute_error(y2019,y2019_pred_est))\n",
    "mask = y2019_pred_est > 0\n",
    "print(\"mean Poisson deviance for training data is\",\n",
    "          mean_poisson_deviance(y2019[mask],\n",
    "                                y2019_pred_est[mask],\n",
    "                                ))"
   ]
  },
  {
   "cell_type": "markdown",
   "metadata": {},
   "source": [
    "### Test Data: 2020 Jan, Feb, Mar"
   ]
  },
  {
   "cell_type": "code",
   "execution_count": 39,
   "metadata": {},
   "outputs": [
    {
     "name": "stdout",
     "output_type": "stream",
     "text": [
      "MSE for training data is 0.3395592793040624\n",
      "MAE for training data is 0.41699392520778517\n",
      "mean Poisson deviance for training data is 0.19783280167857173\n"
     ]
    }
   ],
   "source": [
    "y2020_pred_est = est.predict(X_enc2020)\n",
    "print(\"MSE for training data is\",mean_squared_error(y2020,y2020_pred_est))\n",
    "print(\"MAE for training data is\", mean_absolute_error(y2020,y2020_pred_est))\n",
    "mask = y2020_pred_est > 0\n",
    "print(\"mean Poisson deviance for training data is\",\n",
    "          mean_poisson_deviance(y2020[mask],\n",
    "                                y2020_pred_est[mask],\n",
    "                                ))"
   ]
  },
  {
   "cell_type": "markdown",
   "metadata": {},
   "source": [
    "## Export Data in CSV files"
   ]
  },
  {
   "cell_type": "code",
   "execution_count": 53,
   "metadata": {},
   "outputs": [],
   "source": [
    "results_2019 = pd.DataFrame(data = [np.array(y2019),y2019_pred_ridge,y2019_pred_poisson,y2019_pred,y2019_pred_est]).T"
   ]
  },
  {
   "cell_type": "code",
   "execution_count": 54,
   "metadata": {},
   "outputs": [],
   "source": [
    "results_2019.columns = ['Data(Training)','Ridge(Training)','Poisson (Training)','Random Forest(Training)',  'HistGradBoosting(Training)' ]"
   ]
  },
  {
   "cell_type": "code",
   "execution_count": 55,
   "metadata": {},
   "outputs": [
    {
     "data": {
      "text/html": [
       "<div>\n",
       "<style scoped>\n",
       "    .dataframe tbody tr th:only-of-type {\n",
       "        vertical-align: middle;\n",
       "    }\n",
       "\n",
       "    .dataframe tbody tr th {\n",
       "        vertical-align: top;\n",
       "    }\n",
       "\n",
       "    .dataframe thead th {\n",
       "        text-align: right;\n",
       "    }\n",
       "</style>\n",
       "<table border=\"1\" class=\"dataframe\">\n",
       "  <thead>\n",
       "    <tr style=\"text-align: right;\">\n",
       "      <th></th>\n",
       "      <th>Data(Training)</th>\n",
       "      <th>Ridge(Training)</th>\n",
       "      <th>Poisson (Training)</th>\n",
       "      <th>Random Forest(Training)</th>\n",
       "      <th>HistGradBoosting(Training)</th>\n",
       "    </tr>\n",
       "  </thead>\n",
       "  <tbody>\n",
       "    <tr>\n",
       "      <th>0</th>\n",
       "      <td>5.0</td>\n",
       "      <td>1.217827</td>\n",
       "      <td>1.357698</td>\n",
       "      <td>3.650000</td>\n",
       "      <td>1.251245</td>\n",
       "    </tr>\n",
       "    <tr>\n",
       "      <th>1</th>\n",
       "      <td>1.0</td>\n",
       "      <td>1.245581</td>\n",
       "      <td>1.357698</td>\n",
       "      <td>1.120000</td>\n",
       "      <td>1.343598</td>\n",
       "    </tr>\n",
       "    <tr>\n",
       "      <th>2</th>\n",
       "      <td>1.0</td>\n",
       "      <td>1.317996</td>\n",
       "      <td>1.357698</td>\n",
       "      <td>1.180000</td>\n",
       "      <td>1.295438</td>\n",
       "    </tr>\n",
       "    <tr>\n",
       "      <th>3</th>\n",
       "      <td>1.0</td>\n",
       "      <td>1.354025</td>\n",
       "      <td>1.357698</td>\n",
       "      <td>1.060000</td>\n",
       "      <td>1.181715</td>\n",
       "    </tr>\n",
       "    <tr>\n",
       "      <th>4</th>\n",
       "      <td>1.0</td>\n",
       "      <td>1.184596</td>\n",
       "      <td>1.357698</td>\n",
       "      <td>1.066667</td>\n",
       "      <td>1.243350</td>\n",
       "    </tr>\n",
       "  </tbody>\n",
       "</table>\n",
       "</div>"
      ],
      "text/plain": [
       "   Data(Training)  Ridge(Training)  Poisson (Training)  \\\n",
       "0             5.0         1.217827            1.357698   \n",
       "1             1.0         1.245581            1.357698   \n",
       "2             1.0         1.317996            1.357698   \n",
       "3             1.0         1.354025            1.357698   \n",
       "4             1.0         1.184596            1.357698   \n",
       "\n",
       "   Random Forest(Training)  HistGradBoosting(Training)  \n",
       "0                 3.650000                    1.251245  \n",
       "1                 1.120000                    1.343598  \n",
       "2                 1.180000                    1.295438  \n",
       "3                 1.060000                    1.181715  \n",
       "4                 1.066667                    1.243350  "
      ]
     },
     "execution_count": 55,
     "metadata": {},
     "output_type": "execute_result"
    }
   ],
   "source": [
    "results_2019.head(5)"
   ]
  },
  {
   "cell_type": "code",
   "execution_count": 57,
   "metadata": {},
   "outputs": [],
   "source": [
    "results_2020 = pd.DataFrame(data = [np.array(y2020),y2020_pred_ridge,y2020_pred_poisson, y2020_pred, y2020_pred_est,\n",
    "                                    np.array(y2020_JF), y2020_pred_JF_ridge, y2020_pred_JF_poisson, y2020_JF_pred,  y2020_pred_JF_est,\n",
    "                                    np.array(y2020_M), y2020_pred_M_ridge, y2020_pred_M_poisson, y2020_M_pred,  y2020_pred_M_est\n",
    "                                    ]).T"
   ]
  },
  {
   "cell_type": "code",
   "execution_count": 58,
   "metadata": {},
   "outputs": [],
   "source": [
    "results_2020.columns = ['Data(Full)', 'Ridge(Full)', 'Poisson(Full)', 'Random Forest(Full)',  'HistGradBoosting(Full)',\n",
    "                       'Data(Jan&Feb)', 'Ridge(Jan&Feb)', 'Poisson(Jan&Feb)', 'Random Forest(Jan&Feb)',  'HistGradBoosting(Jan&Feb)',\n",
    "                       'Data(March)', 'Ridge(March)', 'Poisson(March)','Random Forest(March)', 'HistGradBoosting(March)']"
   ]
  },
  {
   "cell_type": "code",
   "execution_count": 59,
   "metadata": {
    "scrolled": true
   },
   "outputs": [
    {
     "data": {
      "text/html": [
       "<div>\n",
       "<style scoped>\n",
       "    .dataframe tbody tr th:only-of-type {\n",
       "        vertical-align: middle;\n",
       "    }\n",
       "\n",
       "    .dataframe tbody tr th {\n",
       "        vertical-align: top;\n",
       "    }\n",
       "\n",
       "    .dataframe thead th {\n",
       "        text-align: right;\n",
       "    }\n",
       "</style>\n",
       "<table border=\"1\" class=\"dataframe\">\n",
       "  <thead>\n",
       "    <tr style=\"text-align: right;\">\n",
       "      <th></th>\n",
       "      <th>Data(Full)</th>\n",
       "      <th>Ridge(Full)</th>\n",
       "      <th>Poisson(Full)</th>\n",
       "      <th>Random Forest(Full)</th>\n",
       "      <th>HistGradBoosting(Full)</th>\n",
       "      <th>Data(Jan&amp;Feb)</th>\n",
       "      <th>Ridge(Jan&amp;Feb)</th>\n",
       "      <th>Poisson(Jan&amp;Feb)</th>\n",
       "      <th>Random Forest(Jan&amp;Feb)</th>\n",
       "      <th>HistGradBoosting(Jan&amp;Feb)</th>\n",
       "      <th>Data(March)</th>\n",
       "      <th>Ridge(March)</th>\n",
       "      <th>Poisson(March)</th>\n",
       "      <th>Random Forest(March)</th>\n",
       "      <th>HistGradBoosting(March)</th>\n",
       "    </tr>\n",
       "  </thead>\n",
       "  <tbody>\n",
       "    <tr>\n",
       "      <th>0</th>\n",
       "      <td>1.0</td>\n",
       "      <td>1.236678</td>\n",
       "      <td>1.357698</td>\n",
       "      <td>1.140</td>\n",
       "      <td>1.350477</td>\n",
       "      <td>1.0</td>\n",
       "      <td>1.236678</td>\n",
       "      <td>1.357698</td>\n",
       "      <td>1.140</td>\n",
       "      <td>1.350477</td>\n",
       "      <td>1.0</td>\n",
       "      <td>1.584966</td>\n",
       "      <td>1.357698</td>\n",
       "      <td>1.22</td>\n",
       "      <td>1.848947</td>\n",
       "    </tr>\n",
       "    <tr>\n",
       "      <th>1</th>\n",
       "      <td>1.0</td>\n",
       "      <td>1.217226</td>\n",
       "      <td>1.357698</td>\n",
       "      <td>2.600</td>\n",
       "      <td>1.456769</td>\n",
       "      <td>1.0</td>\n",
       "      <td>1.217226</td>\n",
       "      <td>1.357698</td>\n",
       "      <td>2.600</td>\n",
       "      <td>1.456769</td>\n",
       "      <td>1.0</td>\n",
       "      <td>1.568507</td>\n",
       "      <td>1.357698</td>\n",
       "      <td>1.09</td>\n",
       "      <td>1.609459</td>\n",
       "    </tr>\n",
       "    <tr>\n",
       "      <th>2</th>\n",
       "      <td>1.0</td>\n",
       "      <td>1.155017</td>\n",
       "      <td>1.357698</td>\n",
       "      <td>1.190</td>\n",
       "      <td>1.231539</td>\n",
       "      <td>1.0</td>\n",
       "      <td>1.155017</td>\n",
       "      <td>1.357698</td>\n",
       "      <td>1.190</td>\n",
       "      <td>1.231539</td>\n",
       "      <td>1.0</td>\n",
       "      <td>1.635584</td>\n",
       "      <td>1.357698</td>\n",
       "      <td>2.33</td>\n",
       "      <td>2.022528</td>\n",
       "    </tr>\n",
       "    <tr>\n",
       "      <th>3</th>\n",
       "      <td>1.0</td>\n",
       "      <td>1.363632</td>\n",
       "      <td>1.357698</td>\n",
       "      <td>1.015</td>\n",
       "      <td>1.213190</td>\n",
       "      <td>1.0</td>\n",
       "      <td>1.363632</td>\n",
       "      <td>1.357698</td>\n",
       "      <td>1.015</td>\n",
       "      <td>1.213190</td>\n",
       "      <td>1.0</td>\n",
       "      <td>1.451115</td>\n",
       "      <td>1.357698</td>\n",
       "      <td>1.06</td>\n",
       "      <td>1.322268</td>\n",
       "    </tr>\n",
       "    <tr>\n",
       "      <th>4</th>\n",
       "      <td>1.0</td>\n",
       "      <td>1.220306</td>\n",
       "      <td>1.357698</td>\n",
       "      <td>1.350</td>\n",
       "      <td>1.398414</td>\n",
       "      <td>1.0</td>\n",
       "      <td>1.220306</td>\n",
       "      <td>1.357698</td>\n",
       "      <td>1.350</td>\n",
       "      <td>1.398414</td>\n",
       "      <td>1.0</td>\n",
       "      <td>1.364393</td>\n",
       "      <td>1.357698</td>\n",
       "      <td>1.04</td>\n",
       "      <td>1.286630</td>\n",
       "    </tr>\n",
       "  </tbody>\n",
       "</table>\n",
       "</div>"
      ],
      "text/plain": [
       "   Data(Full)  Ridge(Full)  Poisson(Full)  Random Forest(Full)  \\\n",
       "0         1.0     1.236678       1.357698                1.140   \n",
       "1         1.0     1.217226       1.357698                2.600   \n",
       "2         1.0     1.155017       1.357698                1.190   \n",
       "3         1.0     1.363632       1.357698                1.015   \n",
       "4         1.0     1.220306       1.357698                1.350   \n",
       "\n",
       "   HistGradBoosting(Full)  Data(Jan&Feb)  Ridge(Jan&Feb)  Poisson(Jan&Feb)  \\\n",
       "0                1.350477            1.0        1.236678          1.357698   \n",
       "1                1.456769            1.0        1.217226          1.357698   \n",
       "2                1.231539            1.0        1.155017          1.357698   \n",
       "3                1.213190            1.0        1.363632          1.357698   \n",
       "4                1.398414            1.0        1.220306          1.357698   \n",
       "\n",
       "   Random Forest(Jan&Feb)  HistGradBoosting(Jan&Feb)  Data(March)  \\\n",
       "0                   1.140                   1.350477          1.0   \n",
       "1                   2.600                   1.456769          1.0   \n",
       "2                   1.190                   1.231539          1.0   \n",
       "3                   1.015                   1.213190          1.0   \n",
       "4                   1.350                   1.398414          1.0   \n",
       "\n",
       "   Ridge(March)  Poisson(March)  Random Forest(March)  HistGradBoosting(March)  \n",
       "0      1.584966        1.357698                  1.22                 1.848947  \n",
       "1      1.568507        1.357698                  1.09                 1.609459  \n",
       "2      1.635584        1.357698                  2.33                 2.022528  \n",
       "3      1.451115        1.357698                  1.06                 1.322268  \n",
       "4      1.364393        1.357698                  1.04                 1.286630  "
      ]
     },
     "execution_count": 59,
     "metadata": {},
     "output_type": "execute_result"
    }
   ],
   "source": [
    "results_2020.head(5)"
   ]
  },
  {
   "cell_type": "code",
   "execution_count": 60,
   "metadata": {},
   "outputs": [],
   "source": [
    "#results_2019.to_csv(\"results_2019.csv\", index = False) \n",
    "#results_2020.to_csv('results_2020.csv', index = False)"
   ]
  },
  {
   "cell_type": "markdown",
   "metadata": {},
   "source": [
    "### Plot predictions on the training dataset"
   ]
  },
  {
   "cell_type": "code",
   "execution_count": 61,
   "metadata": {},
   "outputs": [],
   "source": [
    "#results_2019 = pd.read_csv('results_2019.csv')"
   ]
  },
  {
   "cell_type": "code",
   "execution_count": 62,
   "metadata": {},
   "outputs": [
    {
     "data": {
      "image/png": "[encoded data removed]",
      "text/plain": [
       "<Figure size 1440x432 with 5 Axes>"
      ]
     },
     "metadata": {
      "needs_background": "light"
     },
     "output_type": "display_data"
    }
   ],
   "source": [
    "fig, axs = plt.subplots(nrows=1, ncols=5, figsize=(20, 6), sharey=True)\n",
    "fig.subplots_adjust(bottom=0.2)\n",
    "# n_bins = 20\n",
    "names = list(results_2019.columns)\n",
    "\n",
    "\n",
    "for j in range(0,5):\n",
    "\n",
    "    axs[j].hist(results_2019.iloc[:,j])\n",
    "    axs[j].set_title(names[j])\n",
    "    axs[j].set_yscale('log')\n",
    "    axs[j].set_ylim([1e1, 5e5])\n",
    "    axs[j].set_ylabel('Frequency')\n",
    "    axs[j].grid(True)\n",
    "    if j == 0:\n",
    "        axs[j].set_xlabel(\"Trips (Observed Frequency)\")\n",
    "    else:\n",
    "        axs[j].set_xlabel(\"Trips (Predicted Frequency)\")"
   ]
  },
  {
   "cell_type": "markdown",
   "metadata": {},
   "source": [
    "### Plot predictions on the testing datasets"
   ]
  },
  {
   "cell_type": "code",
   "execution_count": 63,
   "metadata": {},
   "outputs": [],
   "source": [
    "#results_2020 = pd.read_csv('results_2020.csv')"
   ]
  },
  {
   "cell_type": "code",
   "execution_count": 64,
   "metadata": {
    "scrolled": false
   },
   "outputs": [
    {
     "data": {
      "image/png": "[encoded data removed]",
      "text/plain": [
       "<Figure size 1440x1080 with 15 Axes>"
      ]
     },
     "metadata": {
      "needs_background": "light"
     },
     "output_type": "display_data"
    }
   ],
   "source": [
    "fig, axs = plt.subplots(nrows=3, ncols=5, figsize=(20, 15), sharey=True)\n",
    "fig.subplots_adjust(bottom=0.2)\n",
    "# n_bins = 20\n",
    "names = list(results_2020.columns)\n",
    "\n",
    "for j in range(0,5):\n",
    "        \n",
    "    index = i*5+j\n",
    "    axs[i,j].hist(results_2020.iloc[:,index])\n",
    "    axs[i,j].set_title(names[index])\n",
    "    axs[i,j].set_yscale('log')\n",
    "    axs[i, j].set_ylim([1e1, 5e4])\n",
    "    axs[i,j].set_ylabel('Frequency')\n",
    "    axs[i,j].grid(True)\n",
    "    if j == 0:\n",
    "        axs[i, j].set_xlabel(\"Trips (Observed Frequency)\")\n",
    "    else:\n",
    "        axs[i, j].set_xlabel(\"Trips (Predicted Frequency)\")\n",
    "\n",
    "# Hide x labels and tick labels for top plots and y ticks for right plots.\n",
    "for ax in axs.flat:\n",
    "    ax.label_outer()"
   ]
  },
  {
   "cell_type": "code",
   "execution_count": null,
   "metadata": {},
   "outputs": [],
   "source": []
  }
 ],
 "metadata": {
  "kernelspec": {
   "display_name": "Python 3",
   "language": "python",
   "name": "python3"
  },
  "language_info": {
   "codemirror_mode": {
    "name": "ipython",
    "version": 3
   },
   "file_extension": ".py",
   "mimetype": "text/x-python",
   "name": "python",
   "nbconvert_exporter": "python",
   "pygments_lexer": "ipython3",
   "version": "3.7.0"
  }
 },
 "nbformat": 4,
 "nbformat_minor": 2
}
