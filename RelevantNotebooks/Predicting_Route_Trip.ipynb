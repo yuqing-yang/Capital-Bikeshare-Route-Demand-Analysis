{
 "cells": [
  {
   "cell_type": "markdown",
   "metadata": {},
   "source": [
    "__Purpose__: Contains the main models to predict the number of daily trips which occur on a given route"
   ]
  },
  {
   "cell_type": "markdown",
   "metadata": {},
   "source": [
    "# Prepare Data"
   ]
  },
  {
   "cell_type": "code",
   "execution_count": 1,
   "metadata": {},
   "outputs": [],
   "source": [
    "import numpy as np\n",
    "import pandas as pd"
   ]
  },
  {
   "cell_type": "code",
   "execution_count": 2,
   "metadata": {},
   "outputs": [],
   "source": [
    "data = pd.read_csv('all_trips.csv')"
   ]
  },
  {
   "cell_type": "markdown",
   "metadata": {},
   "source": [
    "_all-trips.csv_ was generated from the _\"pipeline\"_ function in _\"DataPipeline.ipynb\"_"
   ]
  },
  {
   "cell_type": "code",
   "execution_count": 3,
   "metadata": {},
   "outputs": [],
   "source": [
    "data['Day'] = pd.to_datetime(data['Date']).dt.day"
   ]
  },
  {
   "cell_type": "code",
   "execution_count": 4,
   "metadata": {},
   "outputs": [
    {
     "data": {
      "text/html": [
       "<div>\n",
       "<style scoped>\n",
       "    .dataframe tbody tr th:only-of-type {\n",
       "        vertical-align: middle;\n",
       "    }\n",
       "\n",
       "    .dataframe tbody tr th {\n",
       "        vertical-align: top;\n",
       "    }\n",
       "\n",
       "    .dataframe thead th {\n",
       "        text-align: right;\n",
       "    }\n",
       "</style>\n",
       "<table border=\"1\" class=\"dataframe\">\n",
       "  <thead>\n",
       "    <tr style=\"text-align: right;\">\n",
       "      <th></th>\n",
       "      <th>TRIP_KEY</th>\n",
       "      <th>Start_ids</th>\n",
       "      <th>End_ids</th>\n",
       "      <th>Start_station</th>\n",
       "      <th>Start_cluster</th>\n",
       "      <th>End_station</th>\n",
       "      <th>End_cluster</th>\n",
       "      <th>Date</th>\n",
       "      <th>AVG_Duration</th>\n",
       "      <th>Month</th>\n",
       "      <th>Weekday</th>\n",
       "      <th>trips</th>\n",
       "      <th>Day</th>\n",
       "    </tr>\n",
       "  </thead>\n",
       "  <tbody>\n",
       "    <tr>\n",
       "      <th>0</th>\n",
       "      <td>0</td>\n",
       "      <td>31253</td>\n",
       "      <td>31037</td>\n",
       "      <td>19th &amp; K St NW</td>\n",
       "      <td>8</td>\n",
       "      <td>Ballston Metro / Stuart St &amp; 9th St N</td>\n",
       "      <td>1</td>\n",
       "      <td>2019-01-01</td>\n",
       "      <td>0.0</td>\n",
       "      <td>1</td>\n",
       "      <td>Tuesday</td>\n",
       "      <td>0.0</td>\n",
       "      <td>1</td>\n",
       "    </tr>\n",
       "    <tr>\n",
       "      <th>1</th>\n",
       "      <td>1</td>\n",
       "      <td>31253</td>\n",
       "      <td>31034</td>\n",
       "      <td>19th &amp; K St NW</td>\n",
       "      <td>8</td>\n",
       "      <td>Fairfax Dr &amp; N Randolph St</td>\n",
       "      <td>1</td>\n",
       "      <td>2019-01-01</td>\n",
       "      <td>0.0</td>\n",
       "      <td>1</td>\n",
       "      <td>Tuesday</td>\n",
       "      <td>0.0</td>\n",
       "      <td>1</td>\n",
       "    </tr>\n",
       "    <tr>\n",
       "      <th>2</th>\n",
       "      <td>2</td>\n",
       "      <td>31253</td>\n",
       "      <td>31249</td>\n",
       "      <td>19th &amp; K St NW</td>\n",
       "      <td>8</td>\n",
       "      <td>Jefferson Memorial</td>\n",
       "      <td>6</td>\n",
       "      <td>2019-01-01</td>\n",
       "      <td>0.0</td>\n",
       "      <td>1</td>\n",
       "      <td>Tuesday</td>\n",
       "      <td>0.0</td>\n",
       "      <td>1</td>\n",
       "    </tr>\n",
       "    <tr>\n",
       "      <th>3</th>\n",
       "      <td>3</td>\n",
       "      <td>31253</td>\n",
       "      <td>31803</td>\n",
       "      <td>19th &amp; K St NW</td>\n",
       "      <td>8</td>\n",
       "      <td>Good Hope Rd &amp; 14th St SE</td>\n",
       "      <td>1</td>\n",
       "      <td>2019-01-01</td>\n",
       "      <td>0.0</td>\n",
       "      <td>1</td>\n",
       "      <td>Tuesday</td>\n",
       "      <td>0.0</td>\n",
       "      <td>1</td>\n",
       "    </tr>\n",
       "    <tr>\n",
       "      <th>4</th>\n",
       "      <td>4</td>\n",
       "      <td>31253</td>\n",
       "      <td>31038</td>\n",
       "      <td>19th &amp; K St NW</td>\n",
       "      <td>8</td>\n",
       "      <td>Glebe Rd &amp; 11th St N</td>\n",
       "      <td>4</td>\n",
       "      <td>2019-01-01</td>\n",
       "      <td>0.0</td>\n",
       "      <td>1</td>\n",
       "      <td>Tuesday</td>\n",
       "      <td>0.0</td>\n",
       "      <td>1</td>\n",
       "    </tr>\n",
       "    <tr>\n",
       "      <th>...</th>\n",
       "      <td>...</td>\n",
       "      <td>...</td>\n",
       "      <td>...</td>\n",
       "      <td>...</td>\n",
       "      <td>...</td>\n",
       "      <td>...</td>\n",
       "      <td>...</td>\n",
       "      <td>...</td>\n",
       "      <td>...</td>\n",
       "      <td>...</td>\n",
       "      <td>...</td>\n",
       "      <td>...</td>\n",
       "      <td>...</td>\n",
       "    </tr>\n",
       "    <tr>\n",
       "      <th>9496195</th>\n",
       "      <td>20820</td>\n",
       "      <td>31646</td>\n",
       "      <td>32093</td>\n",
       "      <td>Maine Ave &amp; 9th St SW</td>\n",
       "      <td>8</td>\n",
       "      <td>White Oak Transit Center</td>\n",
       "      <td>2</td>\n",
       "      <td>2020-03-31</td>\n",
       "      <td>0.0</td>\n",
       "      <td>3</td>\n",
       "      <td>Tuesday</td>\n",
       "      <td>0.0</td>\n",
       "      <td>31</td>\n",
       "    </tr>\n",
       "    <tr>\n",
       "      <th>9496196</th>\n",
       "      <td>20821</td>\n",
       "      <td>31646</td>\n",
       "      <td>31926</td>\n",
       "      <td>Maine Ave &amp; 9th St SW</td>\n",
       "      <td>8</td>\n",
       "      <td>Wilson Blvd. &amp; N. Vermont St.</td>\n",
       "      <td>2</td>\n",
       "      <td>2020-03-31</td>\n",
       "      <td>0.0</td>\n",
       "      <td>3</td>\n",
       "      <td>Tuesday</td>\n",
       "      <td>0.0</td>\n",
       "      <td>31</td>\n",
       "    </tr>\n",
       "    <tr>\n",
       "      <th>9496197</th>\n",
       "      <td>20822</td>\n",
       "      <td>31646</td>\n",
       "      <td>31826</td>\n",
       "      <td>Maine Ave &amp; 9th St SW</td>\n",
       "      <td>8</td>\n",
       "      <td>Minnesota Ave &amp; R St SE</td>\n",
       "      <td>5</td>\n",
       "      <td>2020-03-31</td>\n",
       "      <td>0.0</td>\n",
       "      <td>3</td>\n",
       "      <td>Tuesday</td>\n",
       "      <td>0.0</td>\n",
       "      <td>31</td>\n",
       "    </tr>\n",
       "    <tr>\n",
       "      <th>9496198</th>\n",
       "      <td>20823</td>\n",
       "      <td>31646</td>\n",
       "      <td>32236</td>\n",
       "      <td>Maine Ave &amp; 9th St SW</td>\n",
       "      <td>8</td>\n",
       "      <td>Vy Reston Heights</td>\n",
       "      <td>4</td>\n",
       "      <td>2020-03-31</td>\n",
       "      <td>0.0</td>\n",
       "      <td>3</td>\n",
       "      <td>Tuesday</td>\n",
       "      <td>0.0</td>\n",
       "      <td>31</td>\n",
       "    </tr>\n",
       "    <tr>\n",
       "      <th>9496199</th>\n",
       "      <td>20824</td>\n",
       "      <td>31646</td>\n",
       "      <td>31662</td>\n",
       "      <td>Maine Ave &amp; 9th St SW</td>\n",
       "      <td>8</td>\n",
       "      <td>1st &amp; K NE</td>\n",
       "      <td>1</td>\n",
       "      <td>2020-03-31</td>\n",
       "      <td>0.0</td>\n",
       "      <td>3</td>\n",
       "      <td>Tuesday</td>\n",
       "      <td>0.0</td>\n",
       "      <td>31</td>\n",
       "    </tr>\n",
       "  </tbody>\n",
       "</table>\n",
       "<p>9496200 rows × 13 columns</p>\n",
       "</div>"
      ],
      "text/plain": [
       "         TRIP_KEY  Start_ids  End_ids          Start_station  Start_cluster  \\\n",
       "0               0      31253    31037         19th & K St NW              8   \n",
       "1               1      31253    31034         19th & K St NW              8   \n",
       "2               2      31253    31249         19th & K St NW              8   \n",
       "3               3      31253    31803         19th & K St NW              8   \n",
       "4               4      31253    31038         19th & K St NW              8   \n",
       "...           ...        ...      ...                    ...            ...   \n",
       "9496195     20820      31646    32093  Maine Ave & 9th St SW              8   \n",
       "9496196     20821      31646    31926  Maine Ave & 9th St SW              8   \n",
       "9496197     20822      31646    31826  Maine Ave & 9th St SW              8   \n",
       "9496198     20823      31646    32236  Maine Ave & 9th St SW              8   \n",
       "9496199     20824      31646    31662  Maine Ave & 9th St SW              8   \n",
       "\n",
       "                                   End_station  End_cluster        Date  \\\n",
       "0        Ballston Metro / Stuart St & 9th St N            1  2019-01-01   \n",
       "1                   Fairfax Dr & N Randolph St            1  2019-01-01   \n",
       "2                           Jefferson Memorial            6  2019-01-01   \n",
       "3                    Good Hope Rd & 14th St SE            1  2019-01-01   \n",
       "4                         Glebe Rd & 11th St N            4  2019-01-01   \n",
       "...                                        ...          ...         ...   \n",
       "9496195               White Oak Transit Center            2  2020-03-31   \n",
       "9496196          Wilson Blvd. & N. Vermont St.            2  2020-03-31   \n",
       "9496197                Minnesota Ave & R St SE            5  2020-03-31   \n",
       "9496198                      Vy Reston Heights            4  2020-03-31   \n",
       "9496199                             1st & K NE            1  2020-03-31   \n",
       "\n",
       "         AVG_Duration  Month  Weekday  trips  Day  \n",
       "0                 0.0      1  Tuesday    0.0    1  \n",
       "1                 0.0      1  Tuesday    0.0    1  \n",
       "2                 0.0      1  Tuesday    0.0    1  \n",
       "3                 0.0      1  Tuesday    0.0    1  \n",
       "4                 0.0      1  Tuesday    0.0    1  \n",
       "...               ...    ...      ...    ...  ...  \n",
       "9496195           0.0      3  Tuesday    0.0   31  \n",
       "9496196           0.0      3  Tuesday    0.0   31  \n",
       "9496197           0.0      3  Tuesday    0.0   31  \n",
       "9496198           0.0      3  Tuesday    0.0   31  \n",
       "9496199           0.0      3  Tuesday    0.0   31  \n",
       "\n",
       "[9496200 rows x 13 columns]"
      ]
     },
     "execution_count": 4,
     "metadata": {},
     "output_type": "execute_result"
    }
   ],
   "source": [
    "data"
   ]
  },
  {
   "cell_type": "code",
   "execution_count": 5,
   "metadata": {},
   "outputs": [],
   "source": [
    "data_2019 = data[data['Date'].str.startswith('2019')]"
   ]
  },
  {
   "cell_type": "code",
   "execution_count": 6,
   "metadata": {},
   "outputs": [],
   "source": [
    "data_2020 = data[data['Date'].str.startswith('2020')]"
   ]
  },
  {
   "cell_type": "code",
   "execution_count": 7,
   "metadata": {},
   "outputs": [
    {
     "data": {
      "text/plain": [
       "0.03904730313177903"
      ]
     },
     "execution_count": 7,
     "metadata": {},
     "output_type": "execute_result"
    }
   ],
   "source": [
    "np.mean(data['trips'])"
   ]
  },
  {
   "cell_type": "markdown",
   "metadata": {},
   "source": [
    "# Plotting the distribution of the data"
   ]
  },
  {
   "cell_type": "code",
   "execution_count": 8,
   "metadata": {},
   "outputs": [
    {
     "data": {
      "text/plain": [
       "<matplotlib.axes._subplots.AxesSubplot at 0x1ec8f8f5cf8>"
      ]
     },
     "execution_count": 8,
     "metadata": {},
     "output_type": "execute_result"
    },
    {
     "data": {
      "image/png": "[encoded data removed]",
      "text/plain": [
       "<Figure size 432x288 with 1 Axes>"
      ]
     },
     "metadata": {
      "needs_background": "light"
     },
     "output_type": "display_data"
    }
   ],
   "source": [
    "data['trips'].hist(bins = 30, log = True)"
   ]
  },
  {
   "cell_type": "code",
   "execution_count": 9,
   "metadata": {},
   "outputs": [
    {
     "data": {
      "text/plain": [
       "<matplotlib.axes._subplots.AxesSubplot at 0x1ec9029ef28>"
      ]
     },
     "execution_count": 9,
     "metadata": {},
     "output_type": "execute_result"
    },
    {
     "data": {
      "image/png": "[encoded data removed]",
      "text/plain": [
       "<Figure size 432x288 with 1 Axes>"
      ]
     },
     "metadata": {
      "needs_background": "light"
     },
     "output_type": "display_data"
    }
   ],
   "source": [
    "data['AVG_Duration'].hist(bins = 30, log = True)"
   ]
  },
  {
   "cell_type": "code",
   "execution_count": 10,
   "metadata": {},
   "outputs": [],
   "source": [
    "from sklearn.pipeline import make_pipeline\n",
    "from sklearn.preprocessing import FunctionTransformer, OneHotEncoder, StandardScaler\n",
    "from sklearn.compose import ColumnTransformer\n",
    "\n",
    "model_preprocessor = ColumnTransformer(\n",
    "    [\n",
    "        (\"passthrough_numeric\", \"passthrough\",\n",
    "            [\"AVG_Duration\"]),\n",
    "        (\"onehot_categorical\", OneHotEncoder(),\n",
    "            [\"End_cluster\", \"Month\", \"Weekday\", \"Day\"])\n",
    "    ],\n",
    "    remainder=\"drop\"\n",
    ")"
   ]
  },
  {
   "cell_type": "markdown",
   "metadata": {},
   "source": [
    "# Make the models"
   ]
  },
  {
   "cell_type": "markdown",
   "metadata": {},
   "source": [
    "### Dummy Regressor\n",
    "Predicts the mean value for all input"
   ]
  },
  {
   "cell_type": "code",
   "execution_count": 11,
   "metadata": {},
   "outputs": [],
   "source": [
    "from sklearn.dummy import DummyRegressor\n",
    "from sklearn.pipeline import Pipeline\n",
    "\n",
    "dummy = Pipeline([\n",
    "    (\"preprocessor\", model_preprocessor),\n",
    "    (\"regressor\", DummyRegressor(strategy='mean')),\n",
    "]).fit(data_2019, data_2019['trips'],\n",
    "       #regressor__sample_weight=data_2019[\"AVG_Duration\"]\n",
    "      )"
   ]
  },
  {
   "cell_type": "code",
   "execution_count": 12,
   "metadata": {},
   "outputs": [],
   "source": [
    "import warnings\n",
    "warnings.filterwarnings('ignore')"
   ]
  },
  {
   "cell_type": "code",
   "execution_count": 24,
   "metadata": {},
   "outputs": [
    {
     "name": "stdout",
     "output_type": "stream",
     "text": [
      "Constant mean frequency evaluation:\n",
      "MSE: 0.037\n",
      "MAE: 0.066\n",
      "mean Poisson deviance: 0.206\n"
     ]
    }
   ],
   "source": [
    "from sklearn.metrics import mean_squared_error\n",
    "from sklearn.metrics import mean_absolute_error\n",
    "from sklearn.metrics import mean_poisson_deviance\n",
    "\n",
    "def score_estimator(estimator, df_test):\n",
    "    \"\"\"Score an estimator on the test set.\"\"\"\n",
    "    y_pred = estimator.predict(data_2020)\n",
    "\n",
    "    print(\"MSE: %.3f\" %\n",
    "          mean_squared_error(data_2020['trips'], y_pred,\n",
    "                             #data_2020[\"AVG_Duration\"]\n",
    "                            ))\n",
    "    print(\"MAE: %.3f\" %\n",
    "          mean_absolute_error(data_2020['trips'], y_pred,\n",
    "                              #data_2020[\"AVG_Duration\"]\n",
    "                             ))\n",
    "\n",
    "    # Ignore non-positive predictions, as they are invalid for\n",
    "    # the Poisson deviance.\n",
    "    mask = y_pred > 0\n",
    "    \n",
    "    print(\"mean Poisson deviance: %.3f\" %\n",
    "          mean_poisson_deviance(data_2020['trips'][mask],\n",
    "                                y_pred[mask],\n",
    "                                #sample_weight=data_2020[\"AVG_Duration\"][mask]\n",
    "                               ))\n",
    "\n",
    "\n",
    "print(\"Constant mean frequency evaluation:\")\n",
    "score_estimator(dummy, data_2020)"
   ]
  },
  {
   "cell_type": "markdown",
   "metadata": {},
   "source": [
    "### Ridge Regression"
   ]
  },
  {
   "cell_type": "code",
   "execution_count": 14,
   "metadata": {},
   "outputs": [
    {
     "name": "stdout",
     "output_type": "stream",
     "text": [
      "Ridge evaluation:\n",
      "MSE: 0.029\n",
      "MAE: 0.052\n",
      "mean Poisson deviance: 0.114\n"
     ]
    }
   ],
   "source": [
    "from sklearn.linear_model import Ridge\n",
    "\n",
    "\n",
    "ridge_glm = Pipeline([\n",
    "    (\"preprocessor\", model_preprocessor),\n",
    "    (\"regressor\", Ridge(alpha=1e-6)),\n",
    "]).fit(data_2019, data_2019['trips'],\n",
    "       #regressor__sample_weight=data_2019[\"AVG_Duration\"]\n",
    "      )\n",
    "\n",
    "print(\"Ridge evaluation:\")\n",
    "score_estimator(ridge_glm, data_2020)"
   ]
  },
  {
   "cell_type": "markdown",
   "metadata": {},
   "source": [
    "### Poisson Regression"
   ]
  },
  {
   "cell_type": "code",
   "execution_count": 15,
   "metadata": {},
   "outputs": [
    {
     "name": "stdout",
     "output_type": "stream",
     "text": [
      "PoissonRegressor evaluation:\n",
      "MSE: 0.037\n",
      "MAE: 0.066\n",
      "mean Poisson deviance: 0.206\n"
     ]
    }
   ],
   "source": [
    "from sklearn.linear_model import PoissonRegressor\n",
    "\n",
    "poisson_glm = Pipeline([\n",
    "    (\"preprocessor\", model_preprocessor),\n",
    "    (\"regressor\", PoissonRegressor(alpha=1e-6, max_iter=100))\n",
    "])\n",
    "poisson_glm.fit(data_2019, data_2019['trips'],\n",
    "       #regressor__sample_weight=data_2019[\"AVG_Duration\"]\n",
    "               )\n",
    "\n",
    "print(\"PoissonRegressor evaluation:\")\n",
    "score_estimator(poisson_glm, data_2020)"
   ]
  },
  {
   "cell_type": "markdown",
   "metadata": {},
   "source": [
    "### Random Forest"
   ]
  },
  {
   "cell_type": "code",
   "execution_count": 25,
   "metadata": {},
   "outputs": [
    {
     "name": "stdout",
     "output_type": "stream",
     "text": [
      "RandomForestRegressor evaluation:\n",
      "MSE: 0.008\n",
      "MAE: 0.008\n",
      "mean Poisson deviance: 0.220\n"
     ]
    }
   ],
   "source": [
    "from sklearn.preprocessing import OrdinalEncoder\n",
    "from sklearn.ensemble import RandomForestRegressor\n",
    "\n",
    "tree_preprocessor = ColumnTransformer(\n",
    "    [\n",
    "        (\"categorical\", OrdinalEncoder(),\n",
    "            [\"End_cluster\", \"Month\", \"Weekday\", \"Day\"]),\n",
    "        (\"numeric\", \"passthrough\",\n",
    "            [\"AVG_Duration\"]),\n",
    "    ],\n",
    "    remainder=\"drop\",\n",
    ")\n",
    "\n",
    "rf = Pipeline([\n",
    "    (\"preprocessor\", tree_preprocessor),\n",
    "    (\"regressor\", RandomForestRegressor(n_jobs = -1)),\n",
    "])\n",
    "rf.fit(data_2019, data_2019[\"trips\"],\n",
    "                 #regressor__sample_weight=data_2019['AVG_Duration']\n",
    "                )\n",
    "\n",
    "print(\"RandomForestRegressor evaluation:\")\n",
    "score_estimator(rf, data_2020)"
   ]
  },
  {
   "cell_type": "markdown",
   "metadata": {},
   "source": [
    "### Histogram-based Gradient Boosting Regression Tree"
   ]
  },
  {
   "cell_type": "code",
   "execution_count": 26,
   "metadata": {},
   "outputs": [
    {
     "name": "stdout",
     "output_type": "stream",
     "text": [
      "Poisson Gradient Boosted Trees evaluation:\n",
      "MSE: 0.007\n",
      "MAE: 0.007\n",
      "mean Poisson deviance: 0.004\n"
     ]
    }
   ],
   "source": [
    "from sklearn.experimental import enable_hist_gradient_boosting  \n",
    "from sklearn.ensemble import HistGradientBoostingRegressor\n",
    "\n",
    "poisson_gbrt = Pipeline([\n",
    "    (\"preprocessor\", tree_preprocessor),\n",
    "    (\"regressor\", HistGradientBoostingRegressor(loss=\"poisson\",\n",
    "                                                max_leaf_nodes=128)),\n",
    "])\n",
    "poisson_gbrt.fit(data_2019, data_2019[\"trips\"],\n",
    "                 #regressor__sample_weight=data_2019['AVG_Duration']\n",
    "                )\n",
    "\n",
    "print(\"Poisson Gradient Boosted Trees evaluation:\")\n",
    "score_estimator(poisson_gbrt, data_2020)"
   ]
  },
  {
   "cell_type": "markdown",
   "metadata": {},
   "source": [
    "# Evaluate Model performance\n",
    "tested on data from January & February & March 2020"
   ]
  },
  {
   "cell_type": "code",
   "execution_count": 27,
   "metadata": {},
   "outputs": [],
   "source": [
    "import matplotlib.pyplot as plt"
   ]
  },
  {
   "cell_type": "code",
   "execution_count": 29,
   "metadata": {},
   "outputs": [
    {
     "data": {
      "image/png": "[encoded data removed]",
      "text/plain": [
       "<Figure size 1152x432 with 10 Axes>"
      ]
     },
     "metadata": {
      "needs_background": "light"
     },
     "output_type": "display_data"
    }
   ],
   "source": [
    "fig, axes = plt.subplots(nrows=2, ncols=5, figsize=(16, 6), sharey=True)\n",
    "fig.subplots_adjust(bottom=0.2)\n",
    "n_bins = 20\n",
    "for row_idx, label, df in zip(range(2),\n",
    "                              [\"2019\", \"2020\"],\n",
    "                              [data_2019, data_2020]):\n",
    "    \n",
    "    df['trips'].hist(bins=np.linspace(-1, 20, n_bins),\n",
    "                         ax=axes[row_idx, 0])\n",
    "\n",
    "    axes[row_idx, 0].set_title(\"Data\")\n",
    "    axes[row_idx, 0].set_yscale('log')\n",
    "    axes[row_idx, 0].set_xlabel(\"y (observed Frequency)\")\n",
    "    axes[row_idx, 0].set_ylim([1e1, 5e5])\n",
    "    axes[row_idx, 0].set_ylabel(label)\n",
    "\n",
    "    for idx, model in enumerate([ridge_glm, poisson_glm, rf, poisson_gbrt]):\n",
    "        y_pred = model.predict(df)\n",
    "\n",
    "        pd.Series(y_pred).hist(bins=np.linspace(-1, 15, n_bins),\n",
    "                               ax=axes[row_idx, idx+1])\n",
    "        axes[row_idx, idx + 1].set(\n",
    "            title=model[-1].__class__.__name__,\n",
    "            yscale='log',\n",
    "            xlabel=\"y_pred (predicted expected Frequency)\"\n",
    "        )\n",
    "plt.tight_layout()"
   ]
  }
 ],
 "metadata": {
  "kernelspec": {
   "display_name": "Python 3",
   "language": "python",
   "name": "python3"
  },
  "language_info": {
   "codemirror_mode": {
    "name": "ipython",
    "version": 3
   },
   "file_extension": ".py",
   "mimetype": "text/x-python",
   "name": "python",
   "nbconvert_exporter": "python",
   "pygments_lexer": "ipython3",
   "version": "3.7.0"
  }
 },
 "nbformat": 4,
 "nbformat_minor": 4
}
