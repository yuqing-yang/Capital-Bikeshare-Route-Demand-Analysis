{
 "cells": [
  {
   "cell_type": "code",
   "execution_count": 1,
   "metadata": {},
   "outputs": [],
   "source": [
    "import pandas as pd\n",
    "import numpy as np"
   ]
  },
  {
   "cell_type": "markdown",
   "metadata": {},
   "source": [
    "Load data"
   ]
  },
  {
   "cell_type": "code",
   "execution_count": 2,
   "metadata": {},
   "outputs": [],
   "source": [
    "all_data = pd.read_csv(\"../RideData/all_trips.csv\")"
   ]
  },
  {
   "cell_type": "markdown",
   "metadata": {},
   "source": [
    "Feature engineering: adding day of month and day of week into dataset"
   ]
  },
  {
   "cell_type": "code",
   "execution_count": 3,
   "metadata": {},
   "outputs": [],
   "source": [
    "all_data_dup = all_data\n",
    "all_data_dup['Date'] = pd.to_datetime(all_data_dup['Date'])\n",
    "all_data_dup['Day'] = all_data_dup['Date'].dt.day\n",
    "all_data_dup['trips_binary'] = (all_data_dup['trips'] != 0).astype(int)"
   ]
  },
  {
   "cell_type": "markdown",
   "metadata": {},
   "source": [
    "Spliting dependent and independent variables; creating dummy variables for categorical columns"
   ]
  },
  {
   "cell_type": "code",
   "execution_count": 4,
   "metadata": {},
   "outputs": [],
   "source": [
    "X = all_data_dup[['Start_station','Start_cluster','End_station','End_cluster', 'Month','Day','Weekday']]\n",
    "y = all_data_dup['trips_binary']\n",
    "from sklearn.preprocessing import OneHotEncoder\n",
    "enc = OneHotEncoder(handle_unknown='ignore')\n",
    "X_enc = pd.DataFrame(enc.fit_transform(X).toarray())"
   ]
  },
  {
   "cell_type": "markdown",
   "metadata": {},
   "source": [
    "Using 2019 data as training and 2020 data as testing"
   ]
  },
  {
   "cell_type": "code",
   "execution_count": 5,
   "metadata": {},
   "outputs": [],
   "source": [
    "train_split = (all_data_dup['Date'].dt.year == 2019).value_counts()[0]"
   ]
  },
  {
   "cell_type": "code",
   "execution_count": 6,
   "metadata": {},
   "outputs": [],
   "source": [
    "X_tr = X_enc[:(train_split+1)].values\n",
    "X_te = X_enc[train_split:].values\n",
    "y_tr = y[:(train_split+1)].values\n",
    "y_te = y[train_split:].values"
   ]
  },
  {
   "cell_type": "markdown",
   "metadata": {},
   "source": [
    "### Deep Neural Net"
   ]
  },
  {
   "cell_type": "code",
   "execution_count": 8,
   "metadata": {},
   "outputs": [],
   "source": [
    "import tensorflow as tf\n",
    "model = tf.keras.Sequential([\n",
    "    tf.keras.layers.Dense(128, activation='relu'),\n",
    "    tf.keras.layers.Dense(64, activation='relu'),\n",
    "    tf.keras.layers.Dense(2)\n",
    "])"
   ]
  },
  {
   "cell_type": "code",
   "execution_count": 9,
   "metadata": {},
   "outputs": [],
   "source": [
    "model.compile(optimizer='adam',\n",
    "              loss=tf.keras.losses.SparseCategoricalCrossentropy(from_logits=True),\n",
    "              metrics=['accuracy'])"
   ]
  },
  {
   "cell_type": "code",
   "execution_count": 10,
   "metadata": {},
   "outputs": [
    {
     "name": "stdout",
     "output_type": "stream",
     "text": [
      "Train on 1895076 samples\n",
      "Epoch 1/6\n",
      "1895076/1895076 [==============================] - 241s 127us/sample - loss: 0.0743 - accuracy: 0.9766\n",
      "Epoch 2/6\n",
      "1895076/1895076 [==============================] - 233s 123us/sample - loss: 0.0683 - accuracy: 0.9773\n",
      "Epoch 3/6\n",
      "1895076/1895076 [==============================] - 233s 123us/sample - loss: 0.0667 - accuracy: 0.9778\n",
      "Epoch 4/6\n",
      "1895076/1895076 [==============================] - 270s 143us/sample - loss: 0.0658 - accuracy: 0.9781\n",
      "Epoch 5/6\n",
      "1895076/1895076 [==============================] - 277s 146us/sample - loss: 0.0653 - accuracy: 0.9782\n",
      "Epoch 6/6\n",
      "1895076/1895076 [==============================] - 251s 132us/sample - loss: 0.0648 - accuracy: 0.9783\n"
     ]
    },
    {
     "data": {
      "text/plain": [
       "<tensorflow.python.keras.callbacks.History at 0x1272d4e50>"
      ]
     },
     "execution_count": 10,
     "metadata": {},
     "output_type": "execute_result"
    }
   ],
   "source": [
    "model.fit(X_tr, y_tr, epochs=6)"
   ]
  },
  {
   "cell_type": "code",
   "execution_count": 12,
   "metadata": {},
   "outputs": [
    {
     "name": "stdout",
     "output_type": "stream",
     "text": [
      "INFO:tensorflow:Assets written to: /Users/rongkui/Desktop/Classes/STA208/Project/binary_dnn/assets\n"
     ]
    }
   ],
   "source": [
    "model.save(\"/Users/rongkui/Desktop/Classes/STA208/Project/binary_dnn\")"
   ]
  },
  {
   "cell_type": "code",
   "execution_count": 7,
   "metadata": {},
   "outputs": [],
   "source": [
    "import tensorflow as tf\n",
    "model = tf.keras.models.load_model(\"/Users/rongkui/Desktop/Classes/STA208/Project/binary_dnn\")"
   ]
  },
  {
   "cell_type": "markdown",
   "metadata": {},
   "source": [
    "Confusion matrix:"
   ]
  },
  {
   "cell_type": "code",
   "execution_count": 8,
   "metadata": {
    "scrolled": true
   },
   "outputs": [
    {
     "name": "stdout",
     "output_type": "stream",
     "text": [
      "7601125/1 - 306s\n"
     ]
    }
   ],
   "source": [
    "y_pred = model.predict(X_te, verbose=2)\n",
    "y_pred_df = pd.DataFrame(y_pred, columns = [0, 1])\n",
    "y_pred_recon = np.array(y_pred_df.idxmax(axis=1))\n",
    "pd.Series(y_pred_recon).to_csv(\"RelevantData/DNN_pred.csv\")"
   ]
  },
  {
   "cell_type": "code",
   "execution_count": 1,
   "metadata": {},
   "outputs": [],
   "source": [
    "from sklearn.metrics import confusion_matrix\n",
    "cm = pd.DataFrame(confusion_matrix(y_te, y_pred_recon), columns = ['y_te negative','y_te positive'])\n",
    "cm['Prediction'] = pd.Series(['y_pred negative','y_pred positive'])\n",
    "cm = cm[['Prediction','y_te negative','y_te positive']]\n",
    "cm = cm.set_index('Prediction')\n",
    "cm.to_csv(\"RelevantData/DNN_ConfMat.csv\")"
   ]
  },
  {
   "cell_type": "code",
   "execution_count": 11,
   "metadata": {},
   "outputs": [],
   "source": [
    "from sklearn.metrics import precision_recall_curve\n",
    "precision_keras, recall_keras, thresholds_keras = precision_recall_curve(y_te, y_pred_recon)"
   ]
  },
  {
   "cell_type": "code",
   "execution_count": 12,
   "metadata": {},
   "outputs": [],
   "source": [
    "pr = pd.DataFrame({'Precision':precision_keras, 'Recall':recall_keras})\n",
    "pr.to_csv(\"RelevantData/Binary_DNN_PR.csv\")"
   ]
  },
  {
   "cell_type": "code",
   "execution_count": 20,
   "metadata": {},
   "outputs": [
    {
     "data": {
      "image/png": "[encoded data removed]",
      "text/plain": [
       "<Figure size 432x288 with 1 Axes>"
      ]
     },
     "metadata": {
      "needs_background": "light"
     },
     "output_type": "display_data"
    }
   ],
   "source": [
    "pr = pd.read_csv(\"RelevantData/Binary_DNN_PR.csv\")\n",
    "precision_keras = pr['Precision'].values\n",
    "recall_keras = pr['Recall'].values\n",
    "import matplotlib.pyplot as plt\n",
    "plt.figure(1)\n",
    "plt.plot(precision_keras, recall_keras, label='Deep Neural Net')\n",
    "plt.xlabel('Precision')\n",
    "plt.ylabel('Recall')\n",
    "plt.title('PR Curve')\n",
    "plt.legend(loc='best')\n",
    "plt.show()"
   ]
  },
  {
   "cell_type": "code",
   "execution_count": null,
   "metadata": {},
   "outputs": [],
   "source": []
  }
 ],
 "metadata": {
  "kernelspec": {
   "display_name": "Python 3",
   "language": "python",
   "name": "python3"
  },
  "language_info": {
   "codemirror_mode": {
    "name": "ipython",
    "version": 3
   },
   "file_extension": ".py",
   "mimetype": "text/x-python",
   "name": "python",
   "nbconvert_exporter": "python",
   "pygments_lexer": "ipython3",
   "version": "3.7.0"
  }
 },
 "nbformat": 4,
 "nbformat_minor": 2
}
